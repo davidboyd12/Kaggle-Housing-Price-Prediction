{
 "cells": [
  {
   "cell_type": "markdown",
   "id": "55f179b6",
   "metadata": {},
   "source": [
    "# House Price Prediction\n",
    "\n",
    "Need to go back through and make adjustments to it"
   ]
  },
  {
   "cell_type": "code",
   "execution_count": 4,
   "id": "be01f005",
   "metadata": {},
   "outputs": [],
   "source": [
    "## import the libraries\n",
    "import pandas as pd\n",
    "import numpy as np\n",
    "import seaborn as sns\n",
    "from sklearn.model_selection import train_test_split\n",
    "from sklearn import metrics"
   ]
  },
  {
   "cell_type": "code",
   "execution_count": 5,
   "id": "fcfa22f5",
   "metadata": {},
   "outputs": [],
   "source": [
    "## import the data\n",
    "df = pd.read_csv(\"C:\\\\Users\\\\boydd\\\\Downloads\\\\train (1).csv\")"
   ]
  },
  {
   "cell_type": "code",
   "execution_count": 6,
   "id": "c913b42c",
   "metadata": {},
   "outputs": [
    {
     "data": {
      "text/html": [
       "<div>\n",
       "<style scoped>\n",
       "    .dataframe tbody tr th:only-of-type {\n",
       "        vertical-align: middle;\n",
       "    }\n",
       "\n",
       "    .dataframe tbody tr th {\n",
       "        vertical-align: top;\n",
       "    }\n",
       "\n",
       "    .dataframe thead th {\n",
       "        text-align: right;\n",
       "    }\n",
       "</style>\n",
       "<table border=\"1\" class=\"dataframe\">\n",
       "  <thead>\n",
       "    <tr style=\"text-align: right;\">\n",
       "      <th></th>\n",
       "      <th>Id</th>\n",
       "      <th>MSSubClass</th>\n",
       "      <th>MSZoning</th>\n",
       "      <th>LotFrontage</th>\n",
       "      <th>LotArea</th>\n",
       "      <th>Street</th>\n",
       "      <th>Alley</th>\n",
       "      <th>LotShape</th>\n",
       "      <th>LandContour</th>\n",
       "      <th>Utilities</th>\n",
       "      <th>...</th>\n",
       "      <th>PoolArea</th>\n",
       "      <th>PoolQC</th>\n",
       "      <th>Fence</th>\n",
       "      <th>MiscFeature</th>\n",
       "      <th>MiscVal</th>\n",
       "      <th>MoSold</th>\n",
       "      <th>YrSold</th>\n",
       "      <th>SaleType</th>\n",
       "      <th>SaleCondition</th>\n",
       "      <th>SalePrice</th>\n",
       "    </tr>\n",
       "  </thead>\n",
       "  <tbody>\n",
       "    <tr>\n",
       "      <th>0</th>\n",
       "      <td>1</td>\n",
       "      <td>60</td>\n",
       "      <td>RL</td>\n",
       "      <td>65.0</td>\n",
       "      <td>8450</td>\n",
       "      <td>Pave</td>\n",
       "      <td>NaN</td>\n",
       "      <td>Reg</td>\n",
       "      <td>Lvl</td>\n",
       "      <td>AllPub</td>\n",
       "      <td>...</td>\n",
       "      <td>0</td>\n",
       "      <td>NaN</td>\n",
       "      <td>NaN</td>\n",
       "      <td>NaN</td>\n",
       "      <td>0</td>\n",
       "      <td>2</td>\n",
       "      <td>2008</td>\n",
       "      <td>WD</td>\n",
       "      <td>Normal</td>\n",
       "      <td>208500</td>\n",
       "    </tr>\n",
       "    <tr>\n",
       "      <th>1</th>\n",
       "      <td>2</td>\n",
       "      <td>20</td>\n",
       "      <td>RL</td>\n",
       "      <td>80.0</td>\n",
       "      <td>9600</td>\n",
       "      <td>Pave</td>\n",
       "      <td>NaN</td>\n",
       "      <td>Reg</td>\n",
       "      <td>Lvl</td>\n",
       "      <td>AllPub</td>\n",
       "      <td>...</td>\n",
       "      <td>0</td>\n",
       "      <td>NaN</td>\n",
       "      <td>NaN</td>\n",
       "      <td>NaN</td>\n",
       "      <td>0</td>\n",
       "      <td>5</td>\n",
       "      <td>2007</td>\n",
       "      <td>WD</td>\n",
       "      <td>Normal</td>\n",
       "      <td>181500</td>\n",
       "    </tr>\n",
       "    <tr>\n",
       "      <th>2</th>\n",
       "      <td>3</td>\n",
       "      <td>60</td>\n",
       "      <td>RL</td>\n",
       "      <td>68.0</td>\n",
       "      <td>11250</td>\n",
       "      <td>Pave</td>\n",
       "      <td>NaN</td>\n",
       "      <td>IR1</td>\n",
       "      <td>Lvl</td>\n",
       "      <td>AllPub</td>\n",
       "      <td>...</td>\n",
       "      <td>0</td>\n",
       "      <td>NaN</td>\n",
       "      <td>NaN</td>\n",
       "      <td>NaN</td>\n",
       "      <td>0</td>\n",
       "      <td>9</td>\n",
       "      <td>2008</td>\n",
       "      <td>WD</td>\n",
       "      <td>Normal</td>\n",
       "      <td>223500</td>\n",
       "    </tr>\n",
       "    <tr>\n",
       "      <th>3</th>\n",
       "      <td>4</td>\n",
       "      <td>70</td>\n",
       "      <td>RL</td>\n",
       "      <td>60.0</td>\n",
       "      <td>9550</td>\n",
       "      <td>Pave</td>\n",
       "      <td>NaN</td>\n",
       "      <td>IR1</td>\n",
       "      <td>Lvl</td>\n",
       "      <td>AllPub</td>\n",
       "      <td>...</td>\n",
       "      <td>0</td>\n",
       "      <td>NaN</td>\n",
       "      <td>NaN</td>\n",
       "      <td>NaN</td>\n",
       "      <td>0</td>\n",
       "      <td>2</td>\n",
       "      <td>2006</td>\n",
       "      <td>WD</td>\n",
       "      <td>Abnorml</td>\n",
       "      <td>140000</td>\n",
       "    </tr>\n",
       "    <tr>\n",
       "      <th>4</th>\n",
       "      <td>5</td>\n",
       "      <td>60</td>\n",
       "      <td>RL</td>\n",
       "      <td>84.0</td>\n",
       "      <td>14260</td>\n",
       "      <td>Pave</td>\n",
       "      <td>NaN</td>\n",
       "      <td>IR1</td>\n",
       "      <td>Lvl</td>\n",
       "      <td>AllPub</td>\n",
       "      <td>...</td>\n",
       "      <td>0</td>\n",
       "      <td>NaN</td>\n",
       "      <td>NaN</td>\n",
       "      <td>NaN</td>\n",
       "      <td>0</td>\n",
       "      <td>12</td>\n",
       "      <td>2008</td>\n",
       "      <td>WD</td>\n",
       "      <td>Normal</td>\n",
       "      <td>250000</td>\n",
       "    </tr>\n",
       "  </tbody>\n",
       "</table>\n",
       "<p>5 rows × 81 columns</p>\n",
       "</div>"
      ],
      "text/plain": [
       "   Id  MSSubClass MSZoning  LotFrontage  LotArea Street Alley LotShape  \\\n",
       "0   1          60       RL         65.0     8450   Pave   NaN      Reg   \n",
       "1   2          20       RL         80.0     9600   Pave   NaN      Reg   \n",
       "2   3          60       RL         68.0    11250   Pave   NaN      IR1   \n",
       "3   4          70       RL         60.0     9550   Pave   NaN      IR1   \n",
       "4   5          60       RL         84.0    14260   Pave   NaN      IR1   \n",
       "\n",
       "  LandContour Utilities  ... PoolArea PoolQC Fence MiscFeature MiscVal MoSold  \\\n",
       "0         Lvl    AllPub  ...        0    NaN   NaN         NaN       0      2   \n",
       "1         Lvl    AllPub  ...        0    NaN   NaN         NaN       0      5   \n",
       "2         Lvl    AllPub  ...        0    NaN   NaN         NaN       0      9   \n",
       "3         Lvl    AllPub  ...        0    NaN   NaN         NaN       0      2   \n",
       "4         Lvl    AllPub  ...        0    NaN   NaN         NaN       0     12   \n",
       "\n",
       "  YrSold  SaleType  SaleCondition  SalePrice  \n",
       "0   2008        WD         Normal     208500  \n",
       "1   2007        WD         Normal     181500  \n",
       "2   2008        WD         Normal     223500  \n",
       "3   2006        WD        Abnorml     140000  \n",
       "4   2008        WD         Normal     250000  \n",
       "\n",
       "[5 rows x 81 columns]"
      ]
     },
     "execution_count": 6,
     "metadata": {},
     "output_type": "execute_result"
    }
   ],
   "source": [
    "df.head()"
   ]
  },
  {
   "cell_type": "code",
   "execution_count": 7,
   "id": "25c9bf85",
   "metadata": {
    "scrolled": true
   },
   "outputs": [
    {
     "data": {
      "text/plain": [
       "Id                 0\n",
       "MSSubClass         0\n",
       "MSZoning           0\n",
       "LotFrontage      259\n",
       "LotArea            0\n",
       "                ... \n",
       "MoSold             0\n",
       "YrSold             0\n",
       "SaleType           0\n",
       "SaleCondition      0\n",
       "SalePrice          0\n",
       "Length: 81, dtype: int64"
      ]
     },
     "execution_count": 7,
     "metadata": {},
     "output_type": "execute_result"
    }
   ],
   "source": [
    "df.isnull().sum()"
   ]
  },
  {
   "cell_type": "code",
   "execution_count": 8,
   "id": "baa3320c",
   "metadata": {},
   "outputs": [
    {
     "data": {
      "text/html": [
       "<div>\n",
       "<style scoped>\n",
       "    .dataframe tbody tr th:only-of-type {\n",
       "        vertical-align: middle;\n",
       "    }\n",
       "\n",
       "    .dataframe tbody tr th {\n",
       "        vertical-align: top;\n",
       "    }\n",
       "\n",
       "    .dataframe thead th {\n",
       "        text-align: right;\n",
       "    }\n",
       "</style>\n",
       "<table border=\"1\" class=\"dataframe\">\n",
       "  <thead>\n",
       "    <tr style=\"text-align: right;\">\n",
       "      <th></th>\n",
       "      <th>Id</th>\n",
       "      <th>MSSubClass</th>\n",
       "      <th>LotFrontage</th>\n",
       "      <th>LotArea</th>\n",
       "      <th>OverallQual</th>\n",
       "      <th>OverallCond</th>\n",
       "      <th>YearBuilt</th>\n",
       "      <th>YearRemodAdd</th>\n",
       "      <th>MasVnrArea</th>\n",
       "      <th>BsmtFinSF1</th>\n",
       "      <th>...</th>\n",
       "      <th>WoodDeckSF</th>\n",
       "      <th>OpenPorchSF</th>\n",
       "      <th>EnclosedPorch</th>\n",
       "      <th>3SsnPorch</th>\n",
       "      <th>ScreenPorch</th>\n",
       "      <th>PoolArea</th>\n",
       "      <th>MiscVal</th>\n",
       "      <th>MoSold</th>\n",
       "      <th>YrSold</th>\n",
       "      <th>SalePrice</th>\n",
       "    </tr>\n",
       "  </thead>\n",
       "  <tbody>\n",
       "    <tr>\n",
       "      <th>count</th>\n",
       "      <td>1460.000000</td>\n",
       "      <td>1460.000000</td>\n",
       "      <td>1201.000000</td>\n",
       "      <td>1460.000000</td>\n",
       "      <td>1460.000000</td>\n",
       "      <td>1460.000000</td>\n",
       "      <td>1460.000000</td>\n",
       "      <td>1460.000000</td>\n",
       "      <td>1452.000000</td>\n",
       "      <td>1460.000000</td>\n",
       "      <td>...</td>\n",
       "      <td>1460.000000</td>\n",
       "      <td>1460.000000</td>\n",
       "      <td>1460.000000</td>\n",
       "      <td>1460.000000</td>\n",
       "      <td>1460.000000</td>\n",
       "      <td>1460.000000</td>\n",
       "      <td>1460.000000</td>\n",
       "      <td>1460.000000</td>\n",
       "      <td>1460.000000</td>\n",
       "      <td>1460.000000</td>\n",
       "    </tr>\n",
       "    <tr>\n",
       "      <th>mean</th>\n",
       "      <td>730.500000</td>\n",
       "      <td>56.897260</td>\n",
       "      <td>70.049958</td>\n",
       "      <td>10516.828082</td>\n",
       "      <td>6.099315</td>\n",
       "      <td>5.575342</td>\n",
       "      <td>1971.267808</td>\n",
       "      <td>1984.865753</td>\n",
       "      <td>103.685262</td>\n",
       "      <td>443.639726</td>\n",
       "      <td>...</td>\n",
       "      <td>94.244521</td>\n",
       "      <td>46.660274</td>\n",
       "      <td>21.954110</td>\n",
       "      <td>3.409589</td>\n",
       "      <td>15.060959</td>\n",
       "      <td>2.758904</td>\n",
       "      <td>43.489041</td>\n",
       "      <td>6.321918</td>\n",
       "      <td>2007.815753</td>\n",
       "      <td>180921.195890</td>\n",
       "    </tr>\n",
       "    <tr>\n",
       "      <th>std</th>\n",
       "      <td>421.610009</td>\n",
       "      <td>42.300571</td>\n",
       "      <td>24.284752</td>\n",
       "      <td>9981.264932</td>\n",
       "      <td>1.382997</td>\n",
       "      <td>1.112799</td>\n",
       "      <td>30.202904</td>\n",
       "      <td>20.645407</td>\n",
       "      <td>181.066207</td>\n",
       "      <td>456.098091</td>\n",
       "      <td>...</td>\n",
       "      <td>125.338794</td>\n",
       "      <td>66.256028</td>\n",
       "      <td>61.119149</td>\n",
       "      <td>29.317331</td>\n",
       "      <td>55.757415</td>\n",
       "      <td>40.177307</td>\n",
       "      <td>496.123024</td>\n",
       "      <td>2.703626</td>\n",
       "      <td>1.328095</td>\n",
       "      <td>79442.502883</td>\n",
       "    </tr>\n",
       "    <tr>\n",
       "      <th>min</th>\n",
       "      <td>1.000000</td>\n",
       "      <td>20.000000</td>\n",
       "      <td>21.000000</td>\n",
       "      <td>1300.000000</td>\n",
       "      <td>1.000000</td>\n",
       "      <td>1.000000</td>\n",
       "      <td>1872.000000</td>\n",
       "      <td>1950.000000</td>\n",
       "      <td>0.000000</td>\n",
       "      <td>0.000000</td>\n",
       "      <td>...</td>\n",
       "      <td>0.000000</td>\n",
       "      <td>0.000000</td>\n",
       "      <td>0.000000</td>\n",
       "      <td>0.000000</td>\n",
       "      <td>0.000000</td>\n",
       "      <td>0.000000</td>\n",
       "      <td>0.000000</td>\n",
       "      <td>1.000000</td>\n",
       "      <td>2006.000000</td>\n",
       "      <td>34900.000000</td>\n",
       "    </tr>\n",
       "    <tr>\n",
       "      <th>25%</th>\n",
       "      <td>365.750000</td>\n",
       "      <td>20.000000</td>\n",
       "      <td>59.000000</td>\n",
       "      <td>7553.500000</td>\n",
       "      <td>5.000000</td>\n",
       "      <td>5.000000</td>\n",
       "      <td>1954.000000</td>\n",
       "      <td>1967.000000</td>\n",
       "      <td>0.000000</td>\n",
       "      <td>0.000000</td>\n",
       "      <td>...</td>\n",
       "      <td>0.000000</td>\n",
       "      <td>0.000000</td>\n",
       "      <td>0.000000</td>\n",
       "      <td>0.000000</td>\n",
       "      <td>0.000000</td>\n",
       "      <td>0.000000</td>\n",
       "      <td>0.000000</td>\n",
       "      <td>5.000000</td>\n",
       "      <td>2007.000000</td>\n",
       "      <td>129975.000000</td>\n",
       "    </tr>\n",
       "    <tr>\n",
       "      <th>50%</th>\n",
       "      <td>730.500000</td>\n",
       "      <td>50.000000</td>\n",
       "      <td>69.000000</td>\n",
       "      <td>9478.500000</td>\n",
       "      <td>6.000000</td>\n",
       "      <td>5.000000</td>\n",
       "      <td>1973.000000</td>\n",
       "      <td>1994.000000</td>\n",
       "      <td>0.000000</td>\n",
       "      <td>383.500000</td>\n",
       "      <td>...</td>\n",
       "      <td>0.000000</td>\n",
       "      <td>25.000000</td>\n",
       "      <td>0.000000</td>\n",
       "      <td>0.000000</td>\n",
       "      <td>0.000000</td>\n",
       "      <td>0.000000</td>\n",
       "      <td>0.000000</td>\n",
       "      <td>6.000000</td>\n",
       "      <td>2008.000000</td>\n",
       "      <td>163000.000000</td>\n",
       "    </tr>\n",
       "    <tr>\n",
       "      <th>75%</th>\n",
       "      <td>1095.250000</td>\n",
       "      <td>70.000000</td>\n",
       "      <td>80.000000</td>\n",
       "      <td>11601.500000</td>\n",
       "      <td>7.000000</td>\n",
       "      <td>6.000000</td>\n",
       "      <td>2000.000000</td>\n",
       "      <td>2004.000000</td>\n",
       "      <td>166.000000</td>\n",
       "      <td>712.250000</td>\n",
       "      <td>...</td>\n",
       "      <td>168.000000</td>\n",
       "      <td>68.000000</td>\n",
       "      <td>0.000000</td>\n",
       "      <td>0.000000</td>\n",
       "      <td>0.000000</td>\n",
       "      <td>0.000000</td>\n",
       "      <td>0.000000</td>\n",
       "      <td>8.000000</td>\n",
       "      <td>2009.000000</td>\n",
       "      <td>214000.000000</td>\n",
       "    </tr>\n",
       "    <tr>\n",
       "      <th>max</th>\n",
       "      <td>1460.000000</td>\n",
       "      <td>190.000000</td>\n",
       "      <td>313.000000</td>\n",
       "      <td>215245.000000</td>\n",
       "      <td>10.000000</td>\n",
       "      <td>9.000000</td>\n",
       "      <td>2010.000000</td>\n",
       "      <td>2010.000000</td>\n",
       "      <td>1600.000000</td>\n",
       "      <td>5644.000000</td>\n",
       "      <td>...</td>\n",
       "      <td>857.000000</td>\n",
       "      <td>547.000000</td>\n",
       "      <td>552.000000</td>\n",
       "      <td>508.000000</td>\n",
       "      <td>480.000000</td>\n",
       "      <td>738.000000</td>\n",
       "      <td>15500.000000</td>\n",
       "      <td>12.000000</td>\n",
       "      <td>2010.000000</td>\n",
       "      <td>755000.000000</td>\n",
       "    </tr>\n",
       "  </tbody>\n",
       "</table>\n",
       "<p>8 rows × 38 columns</p>\n",
       "</div>"
      ],
      "text/plain": [
       "                Id   MSSubClass  LotFrontage        LotArea  OverallQual  \\\n",
       "count  1460.000000  1460.000000  1201.000000    1460.000000  1460.000000   \n",
       "mean    730.500000    56.897260    70.049958   10516.828082     6.099315   \n",
       "std     421.610009    42.300571    24.284752    9981.264932     1.382997   \n",
       "min       1.000000    20.000000    21.000000    1300.000000     1.000000   \n",
       "25%     365.750000    20.000000    59.000000    7553.500000     5.000000   \n",
       "50%     730.500000    50.000000    69.000000    9478.500000     6.000000   \n",
       "75%    1095.250000    70.000000    80.000000   11601.500000     7.000000   \n",
       "max    1460.000000   190.000000   313.000000  215245.000000    10.000000   \n",
       "\n",
       "       OverallCond    YearBuilt  YearRemodAdd   MasVnrArea   BsmtFinSF1  ...  \\\n",
       "count  1460.000000  1460.000000   1460.000000  1452.000000  1460.000000  ...   \n",
       "mean      5.575342  1971.267808   1984.865753   103.685262   443.639726  ...   \n",
       "std       1.112799    30.202904     20.645407   181.066207   456.098091  ...   \n",
       "min       1.000000  1872.000000   1950.000000     0.000000     0.000000  ...   \n",
       "25%       5.000000  1954.000000   1967.000000     0.000000     0.000000  ...   \n",
       "50%       5.000000  1973.000000   1994.000000     0.000000   383.500000  ...   \n",
       "75%       6.000000  2000.000000   2004.000000   166.000000   712.250000  ...   \n",
       "max       9.000000  2010.000000   2010.000000  1600.000000  5644.000000  ...   \n",
       "\n",
       "        WoodDeckSF  OpenPorchSF  EnclosedPorch    3SsnPorch  ScreenPorch  \\\n",
       "count  1460.000000  1460.000000    1460.000000  1460.000000  1460.000000   \n",
       "mean     94.244521    46.660274      21.954110     3.409589    15.060959   \n",
       "std     125.338794    66.256028      61.119149    29.317331    55.757415   \n",
       "min       0.000000     0.000000       0.000000     0.000000     0.000000   \n",
       "25%       0.000000     0.000000       0.000000     0.000000     0.000000   \n",
       "50%       0.000000    25.000000       0.000000     0.000000     0.000000   \n",
       "75%     168.000000    68.000000       0.000000     0.000000     0.000000   \n",
       "max     857.000000   547.000000     552.000000   508.000000   480.000000   \n",
       "\n",
       "          PoolArea       MiscVal       MoSold       YrSold      SalePrice  \n",
       "count  1460.000000   1460.000000  1460.000000  1460.000000    1460.000000  \n",
       "mean      2.758904     43.489041     6.321918  2007.815753  180921.195890  \n",
       "std      40.177307    496.123024     2.703626     1.328095   79442.502883  \n",
       "min       0.000000      0.000000     1.000000  2006.000000   34900.000000  \n",
       "25%       0.000000      0.000000     5.000000  2007.000000  129975.000000  \n",
       "50%       0.000000      0.000000     6.000000  2008.000000  163000.000000  \n",
       "75%       0.000000      0.000000     8.000000  2009.000000  214000.000000  \n",
       "max     738.000000  15500.000000    12.000000  2010.000000  755000.000000  \n",
       "\n",
       "[8 rows x 38 columns]"
      ]
     },
     "execution_count": 8,
     "metadata": {},
     "output_type": "execute_result"
    }
   ],
   "source": [
    "df.describe()"
   ]
  },
  {
   "cell_type": "code",
   "execution_count": 9,
   "id": "3e26e14e",
   "metadata": {},
   "outputs": [],
   "source": [
    "correlation = df.corr()"
   ]
  },
  {
   "cell_type": "code",
   "execution_count": 11,
   "id": "d187847b",
   "metadata": {},
   "outputs": [],
   "source": [
    "# Load the model and fit before doing feature engineering\n",
    "from sklearn.ensemble import GradientBoostingRegressor\n"
   ]
  },
  {
   "cell_type": "code",
   "execution_count": 13,
   "id": "514a1e75",
   "metadata": {},
   "outputs": [],
   "source": [
    "# There are a lot of columns, i will look at columns that have categorical values\n",
    "df['MSZoning'].value_counts()\n",
    "\n",
    "# possible values are RL, RM, FV, RH, C (all)\n",
    "# Map these values to columns\n",
    "df = pd.get_dummies(df, columns=[\"MSZoning\"])"
   ]
  },
  {
   "cell_type": "code",
   "execution_count": 14,
   "id": "4c500370",
   "metadata": {},
   "outputs": [],
   "source": [
    "df = df.drop(['Alley','MiscFeature'], axis=1)"
   ]
  },
  {
   "cell_type": "code",
   "execution_count": 22,
   "id": "766b51ba",
   "metadata": {},
   "outputs": [
    {
     "name": "stdout",
     "output_type": "stream",
     "text": [
      "<class 'pandas.core.frame.DataFrame'>\n",
      "RangeIndex: 1460 entries, 0 to 1459\n",
      "Data columns (total 83 columns):\n",
      " #   Column            Non-Null Count  Dtype  \n",
      "---  ------            --------------  -----  \n",
      " 0   Id                1460 non-null   int64  \n",
      " 1   MSSubClass        1460 non-null   int64  \n",
      " 2   LotFrontage       1201 non-null   float64\n",
      " 3   LotArea           1460 non-null   int64  \n",
      " 4   Street            1460 non-null   object \n",
      " 5   LotShape          1460 non-null   object \n",
      " 6   LandContour       1460 non-null   object \n",
      " 7   Utilities         1460 non-null   object \n",
      " 8   LotConfig         1460 non-null   object \n",
      " 9   LandSlope         1460 non-null   object \n",
      " 10  Neighborhood      1460 non-null   object \n",
      " 11  Condition1        1460 non-null   object \n",
      " 12  Condition2        1460 non-null   object \n",
      " 13  BldgType          1460 non-null   object \n",
      " 14  HouseStyle        1460 non-null   object \n",
      " 15  OverallQual       1460 non-null   int64  \n",
      " 16  OverallCond       1460 non-null   int64  \n",
      " 17  YearBuilt         1460 non-null   int64  \n",
      " 18  YearRemodAdd      1460 non-null   int64  \n",
      " 19  RoofStyle         1460 non-null   object \n",
      " 20  RoofMatl          1460 non-null   object \n",
      " 21  Exterior1st       1460 non-null   object \n",
      " 22  Exterior2nd       1460 non-null   object \n",
      " 23  MasVnrType        1452 non-null   object \n",
      " 24  MasVnrArea        1452 non-null   float64\n",
      " 25  ExterQual         1460 non-null   object \n",
      " 26  ExterCond         1460 non-null   object \n",
      " 27  Foundation        1460 non-null   object \n",
      " 28  BsmtQual          1423 non-null   object \n",
      " 29  BsmtCond          1423 non-null   object \n",
      " 30  BsmtExposure      1422 non-null   object \n",
      " 31  BsmtFinType1      1423 non-null   object \n",
      " 32  BsmtFinSF1        1460 non-null   int64  \n",
      " 33  BsmtFinType2      1422 non-null   object \n",
      " 34  BsmtFinSF2        1460 non-null   int64  \n",
      " 35  BsmtUnfSF         1460 non-null   int64  \n",
      " 36  TotalBsmtSF       1460 non-null   int64  \n",
      " 37  Heating           1460 non-null   object \n",
      " 38  HeatingQC         1460 non-null   object \n",
      " 39  CentralAir        1460 non-null   object \n",
      " 40  Electrical        1459 non-null   object \n",
      " 41  1stFlrSF          1460 non-null   int64  \n",
      " 42  2ndFlrSF          1460 non-null   int64  \n",
      " 43  LowQualFinSF      1460 non-null   int64  \n",
      " 44  GrLivArea         1460 non-null   int64  \n",
      " 45  BsmtFullBath      1460 non-null   int64  \n",
      " 46  BsmtHalfBath      1460 non-null   int64  \n",
      " 47  FullBath          1460 non-null   int64  \n",
      " 48  HalfBath          1460 non-null   int64  \n",
      " 49  BedroomAbvGr      1460 non-null   int64  \n",
      " 50  KitchenAbvGr      1460 non-null   int64  \n",
      " 51  KitchenQual       1460 non-null   object \n",
      " 52  TotRmsAbvGrd      1460 non-null   int64  \n",
      " 53  Functional        1460 non-null   object \n",
      " 54  Fireplaces        1460 non-null   int64  \n",
      " 55  FireplaceQu       770 non-null    object \n",
      " 56  GarageType        1379 non-null   object \n",
      " 57  GarageYrBlt       1379 non-null   float64\n",
      " 58  GarageFinish      1379 non-null   object \n",
      " 59  GarageCars        1460 non-null   int64  \n",
      " 60  GarageArea        1460 non-null   int64  \n",
      " 61  GarageQual        1379 non-null   object \n",
      " 62  GarageCond        1379 non-null   object \n",
      " 63  PavedDrive        1460 non-null   object \n",
      " 64  WoodDeckSF        1460 non-null   int64  \n",
      " 65  OpenPorchSF       1460 non-null   int64  \n",
      " 66  EnclosedPorch     1460 non-null   int64  \n",
      " 67  3SsnPorch         1460 non-null   int64  \n",
      " 68  ScreenPorch       1460 non-null   int64  \n",
      " 69  PoolArea          1460 non-null   int64  \n",
      " 70  PoolQC            7 non-null      object \n",
      " 71  Fence             281 non-null    object \n",
      " 72  MiscVal           1460 non-null   int64  \n",
      " 73  MoSold            1460 non-null   int64  \n",
      " 74  YrSold            1460 non-null   int64  \n",
      " 75  SaleType          1460 non-null   object \n",
      " 76  SaleCondition     1460 non-null   object \n",
      " 77  SalePrice         1460 non-null   int64  \n",
      " 78  MSZoning_C (all)  1460 non-null   uint8  \n",
      " 79  MSZoning_FV       1460 non-null   uint8  \n",
      " 80  MSZoning_RH       1460 non-null   uint8  \n",
      " 81  MSZoning_RL       1460 non-null   uint8  \n",
      " 82  MSZoning_RM       1460 non-null   uint8  \n",
      "dtypes: float64(3), int64(35), object(40), uint8(5)\n",
      "memory usage: 896.9+ KB\n"
     ]
    }
   ],
   "source": [
    "df.info()"
   ]
  },
  {
   "cell_type": "code",
   "execution_count": 15,
   "id": "925ff7e4",
   "metadata": {},
   "outputs": [],
   "source": [
    "# Fill fence, PoolQC, FireplaceQu Nulls with 0\n",
    "df['PoolQC'] = df['PoolQC'].fillna(0)\n",
    "df['Fence'] = df['Fence'].fillna(0)\n",
    "df['FireplaceQu'] = df['FireplaceQu'].fillna(0)"
   ]
  },
  {
   "cell_type": "code",
   "execution_count": 16,
   "id": "723ff37f",
   "metadata": {},
   "outputs": [
    {
     "data": {
      "text/plain": [
       "count      1460.000000\n",
       "mean     180921.195890\n",
       "std       79442.502883\n",
       "min       34900.000000\n",
       "25%      129975.000000\n",
       "50%      163000.000000\n",
       "75%      214000.000000\n",
       "max      755000.000000\n",
       "Name: SalePrice, dtype: float64"
      ]
     },
     "execution_count": 16,
     "metadata": {},
     "output_type": "execute_result"
    }
   ],
   "source": [
    "df['SalePrice'].describe()"
   ]
  },
  {
   "cell_type": "code",
   "execution_count": 17,
   "id": "1cdbcb26",
   "metadata": {},
   "outputs": [
    {
     "data": {
      "text/plain": [
       "<seaborn.axisgrid.FacetGrid at 0x2074618d310>"
      ]
     },
     "execution_count": 17,
     "metadata": {},
     "output_type": "execute_result"
    },
    {
     "data": {
      "image/png": "[encoded data removed]",
      "text/plain": [
       "<Figure size 360x360 with 1 Axes>"
      ]
     },
     "metadata": {
      "needs_background": "light"
     },
     "output_type": "display_data"
    }
   ],
   "source": [
    "sns.displot(df['SalePrice'], kind='kde')"
   ]
  },
  {
   "cell_type": "code",
   "execution_count": 25,
   "id": "f5f14a92",
   "metadata": {},
   "outputs": [
    {
     "data": {
      "text/html": [
       "<div>\n",
       "<style scoped>\n",
       "    .dataframe tbody tr th:only-of-type {\n",
       "        vertical-align: middle;\n",
       "    }\n",
       "\n",
       "    .dataframe tbody tr th {\n",
       "        vertical-align: top;\n",
       "    }\n",
       "\n",
       "    .dataframe thead th {\n",
       "        text-align: right;\n",
       "    }\n",
       "</style>\n",
       "<table border=\"1\" class=\"dataframe\">\n",
       "  <thead>\n",
       "    <tr style=\"text-align: right;\">\n",
       "      <th></th>\n",
       "      <th>Id</th>\n",
       "      <th>MSSubClass</th>\n",
       "      <th>LotFrontage</th>\n",
       "      <th>LotArea</th>\n",
       "      <th>Street</th>\n",
       "      <th>LotShape</th>\n",
       "      <th>LandContour</th>\n",
       "      <th>Utilities</th>\n",
       "      <th>LotConfig</th>\n",
       "      <th>LandSlope</th>\n",
       "      <th>...</th>\n",
       "      <th>MoSold</th>\n",
       "      <th>YrSold</th>\n",
       "      <th>SaleType</th>\n",
       "      <th>SaleCondition</th>\n",
       "      <th>SalePrice</th>\n",
       "      <th>MSZoning_C (all)</th>\n",
       "      <th>MSZoning_FV</th>\n",
       "      <th>MSZoning_RH</th>\n",
       "      <th>MSZoning_RL</th>\n",
       "      <th>MSZoning_RM</th>\n",
       "    </tr>\n",
       "  </thead>\n",
       "  <tbody>\n",
       "    <tr>\n",
       "      <th>0</th>\n",
       "      <td>1</td>\n",
       "      <td>60</td>\n",
       "      <td>65.0</td>\n",
       "      <td>8450</td>\n",
       "      <td>Pave</td>\n",
       "      <td>Reg</td>\n",
       "      <td>Lvl</td>\n",
       "      <td>AllPub</td>\n",
       "      <td>Inside</td>\n",
       "      <td>Gtl</td>\n",
       "      <td>...</td>\n",
       "      <td>2</td>\n",
       "      <td>2008</td>\n",
       "      <td>WD</td>\n",
       "      <td>Normal</td>\n",
       "      <td>208500</td>\n",
       "      <td>0</td>\n",
       "      <td>0</td>\n",
       "      <td>0</td>\n",
       "      <td>1</td>\n",
       "      <td>0</td>\n",
       "    </tr>\n",
       "    <tr>\n",
       "      <th>1</th>\n",
       "      <td>2</td>\n",
       "      <td>20</td>\n",
       "      <td>80.0</td>\n",
       "      <td>9600</td>\n",
       "      <td>Pave</td>\n",
       "      <td>Reg</td>\n",
       "      <td>Lvl</td>\n",
       "      <td>AllPub</td>\n",
       "      <td>FR2</td>\n",
       "      <td>Gtl</td>\n",
       "      <td>...</td>\n",
       "      <td>5</td>\n",
       "      <td>2007</td>\n",
       "      <td>WD</td>\n",
       "      <td>Normal</td>\n",
       "      <td>181500</td>\n",
       "      <td>0</td>\n",
       "      <td>0</td>\n",
       "      <td>0</td>\n",
       "      <td>1</td>\n",
       "      <td>0</td>\n",
       "    </tr>\n",
       "    <tr>\n",
       "      <th>2</th>\n",
       "      <td>3</td>\n",
       "      <td>60</td>\n",
       "      <td>68.0</td>\n",
       "      <td>11250</td>\n",
       "      <td>Pave</td>\n",
       "      <td>IR1</td>\n",
       "      <td>Lvl</td>\n",
       "      <td>AllPub</td>\n",
       "      <td>Inside</td>\n",
       "      <td>Gtl</td>\n",
       "      <td>...</td>\n",
       "      <td>9</td>\n",
       "      <td>2008</td>\n",
       "      <td>WD</td>\n",
       "      <td>Normal</td>\n",
       "      <td>223500</td>\n",
       "      <td>0</td>\n",
       "      <td>0</td>\n",
       "      <td>0</td>\n",
       "      <td>1</td>\n",
       "      <td>0</td>\n",
       "    </tr>\n",
       "    <tr>\n",
       "      <th>3</th>\n",
       "      <td>4</td>\n",
       "      <td>70</td>\n",
       "      <td>60.0</td>\n",
       "      <td>9550</td>\n",
       "      <td>Pave</td>\n",
       "      <td>IR1</td>\n",
       "      <td>Lvl</td>\n",
       "      <td>AllPub</td>\n",
       "      <td>Corner</td>\n",
       "      <td>Gtl</td>\n",
       "      <td>...</td>\n",
       "      <td>2</td>\n",
       "      <td>2006</td>\n",
       "      <td>WD</td>\n",
       "      <td>Abnorml</td>\n",
       "      <td>140000</td>\n",
       "      <td>0</td>\n",
       "      <td>0</td>\n",
       "      <td>0</td>\n",
       "      <td>1</td>\n",
       "      <td>0</td>\n",
       "    </tr>\n",
       "    <tr>\n",
       "      <th>4</th>\n",
       "      <td>5</td>\n",
       "      <td>60</td>\n",
       "      <td>84.0</td>\n",
       "      <td>14260</td>\n",
       "      <td>Pave</td>\n",
       "      <td>IR1</td>\n",
       "      <td>Lvl</td>\n",
       "      <td>AllPub</td>\n",
       "      <td>FR2</td>\n",
       "      <td>Gtl</td>\n",
       "      <td>...</td>\n",
       "      <td>12</td>\n",
       "      <td>2008</td>\n",
       "      <td>WD</td>\n",
       "      <td>Normal</td>\n",
       "      <td>250000</td>\n",
       "      <td>0</td>\n",
       "      <td>0</td>\n",
       "      <td>0</td>\n",
       "      <td>1</td>\n",
       "      <td>0</td>\n",
       "    </tr>\n",
       "  </tbody>\n",
       "</table>\n",
       "<p>5 rows × 83 columns</p>\n",
       "</div>"
      ],
      "text/plain": [
       "   Id  MSSubClass  LotFrontage  LotArea Street LotShape LandContour Utilities  \\\n",
       "0   1          60         65.0     8450   Pave      Reg         Lvl    AllPub   \n",
       "1   2          20         80.0     9600   Pave      Reg         Lvl    AllPub   \n",
       "2   3          60         68.0    11250   Pave      IR1         Lvl    AllPub   \n",
       "3   4          70         60.0     9550   Pave      IR1         Lvl    AllPub   \n",
       "4   5          60         84.0    14260   Pave      IR1         Lvl    AllPub   \n",
       "\n",
       "  LotConfig LandSlope  ... MoSold YrSold SaleType SaleCondition SalePrice  \\\n",
       "0    Inside       Gtl  ...      2   2008       WD        Normal    208500   \n",
       "1       FR2       Gtl  ...      5   2007       WD        Normal    181500   \n",
       "2    Inside       Gtl  ...      9   2008       WD        Normal    223500   \n",
       "3    Corner       Gtl  ...      2   2006       WD       Abnorml    140000   \n",
       "4       FR2       Gtl  ...     12   2008       WD        Normal    250000   \n",
       "\n",
       "   MSZoning_C (all)  MSZoning_FV  MSZoning_RH  MSZoning_RL MSZoning_RM  \n",
       "0                 0            0            0            1           0  \n",
       "1                 0            0            0            1           0  \n",
       "2                 0            0            0            1           0  \n",
       "3                 0            0            0            1           0  \n",
       "4                 0            0            0            1           0  \n",
       "\n",
       "[5 rows x 83 columns]"
      ]
     },
     "execution_count": 25,
     "metadata": {},
     "output_type": "execute_result"
    }
   ],
   "source": [
    "# Can see the SalePrice is skewed \n",
    "# May want to log transform it\n",
    "df.head()"
   ]
  },
  {
   "cell_type": "code",
   "execution_count": 18,
   "id": "bbdb0075",
   "metadata": {},
   "outputs": [
    {
     "data": {
      "text/plain": [
       "SalePrice           1.000000\n",
       "OverallQual         0.790982\n",
       "GrLivArea           0.708624\n",
       "GarageCars          0.640409\n",
       "GarageArea          0.623431\n",
       "TotalBsmtSF         0.613581\n",
       "1stFlrSF            0.605852\n",
       "FullBath            0.560664\n",
       "TotRmsAbvGrd        0.533723\n",
       "YearBuilt           0.522897\n",
       "YearRemodAdd        0.507101\n",
       "GarageYrBlt         0.486362\n",
       "MasVnrArea          0.477493\n",
       "Fireplaces          0.466929\n",
       "BsmtFinSF1          0.386420\n",
       "LotFrontage         0.351799\n",
       "WoodDeckSF          0.324413\n",
       "2ndFlrSF            0.319334\n",
       "OpenPorchSF         0.315856\n",
       "HalfBath            0.284108\n",
       "LotArea             0.263843\n",
       "MSZoning_RL         0.245063\n",
       "BsmtFullBath        0.227122\n",
       "BsmtUnfSF           0.214479\n",
       "BedroomAbvGr        0.168213\n",
       "ScreenPorch         0.111447\n",
       "PoolArea            0.092404\n",
       "MSZoning_FV         0.089950\n",
       "MoSold              0.046432\n",
       "3SsnPorch           0.044584\n",
       "BsmtFinSF2         -0.011378\n",
       "BsmtHalfBath       -0.016844\n",
       "MiscVal            -0.021190\n",
       "Id                 -0.021917\n",
       "LowQualFinSF       -0.025606\n",
       "YrSold             -0.028923\n",
       "MSZoning_RH        -0.065429\n",
       "OverallCond        -0.077856\n",
       "MSSubClass         -0.084284\n",
       "MSZoning_C (all)   -0.111257\n",
       "EnclosedPorch      -0.128578\n",
       "KitchenAbvGr       -0.135907\n",
       "MSZoning_RM        -0.288065\n",
       "Name: SalePrice, dtype: float64"
      ]
     },
     "execution_count": 18,
     "metadata": {},
     "output_type": "execute_result"
    }
   ],
   "source": [
    "df.corr()['SalePrice'].sort_values(ascending = False)\n",
    "# OverallQuall, GrLivArea, GarageCars, GarageArea, TotalBsmtSF are most important"
   ]
  },
  {
   "cell_type": "code",
   "execution_count": 51,
   "id": "03ce4d53",
   "metadata": {},
   "outputs": [],
   "source": [
    "pd.options.display.max_columns = 82"
   ]
  },
  {
   "cell_type": "code",
   "execution_count": 59,
   "id": "98f5da72",
   "metadata": {},
   "outputs": [
    {
     "data": {
      "text/plain": [
       "Inside     1052\n",
       "Corner      263\n",
       "CulDSac      94\n",
       "FR2          47\n",
       "FR3           4\n",
       "Name: LotConfig, dtype: int64"
      ]
     },
     "execution_count": 59,
     "metadata": {},
     "output_type": "execute_result"
    }
   ],
   "source": [
    "df['LotConfig'].value_counts()"
   ]
  },
  {
   "cell_type": "code",
   "execution_count": 19,
   "id": "cc90dc80",
   "metadata": {},
   "outputs": [],
   "source": [
    "from sklearn.preprocessing import OneHotEncoder"
   ]
  },
  {
   "cell_type": "code",
   "execution_count": 20,
   "id": "0bc9255e",
   "metadata": {},
   "outputs": [
    {
     "data": {
      "text/plain": [
       "Index(['Street', 'LotShape', 'LandContour', 'Utilities', 'LotConfig',\n",
       "       'LandSlope', 'Neighborhood', 'Condition1', 'Condition2', 'BldgType',\n",
       "       'HouseStyle', 'RoofStyle', 'RoofMatl', 'Exterior1st', 'Exterior2nd',\n",
       "       'MasVnrType', 'ExterQual', 'ExterCond', 'Foundation', 'BsmtQual',\n",
       "       'BsmtCond', 'BsmtExposure', 'BsmtFinType1', 'BsmtFinType2', 'Heating',\n",
       "       'HeatingQC', 'CentralAir', 'Electrical', 'KitchenQual', 'Functional',\n",
       "       'FireplaceQu', 'GarageType', 'GarageFinish', 'GarageQual', 'GarageCond',\n",
       "       'PavedDrive', 'PoolQC', 'Fence', 'SaleType', 'SaleCondition'],\n",
       "      dtype='object')"
      ]
     },
     "execution_count": 20,
     "metadata": {},
     "output_type": "execute_result"
    }
   ],
   "source": [
    "# This will hold all categorical variables\n",
    "cat = df.select_dtypes(include='O').keys()\n",
    "cat"
   ]
  },
  {
   "cell_type": "code",
   "execution_count": 29,
   "id": "232e12d0",
   "metadata": {},
   "outputs": [
    {
     "data": {
      "image/png": "[encoded data removed]",
      "text/plain": [
       "<Figure size 2160x4320 with 40 Axes>"
      ]
     },
     "metadata": {
      "needs_background": "light"
     },
     "output_type": "display_data"
    }
   ],
   "source": [
    "# plotting all categorical columns vs saleprice\n",
    "\n",
    "plt.figure(figsize= (30,60))\n",
    "for i,col in enumerate(cat):\n",
    "    plt.subplot(13,4,i+1)\n",
    "    sns.barplot(x=col, y=\"SalePrice\", data=df)\n",
    "    \n",
    "    \n",
    "# In LotShape, IR2 is higher, in landContour, Bnk is lower, "
   ]
  },
  {
   "cell_type": "code",
   "execution_count": 21,
   "id": "6a108faf",
   "metadata": {},
   "outputs": [],
   "source": [
    "# create a function that will be used to one hot encode all of the categorical columns\n",
    "def one_hot_encoder(dataframe, categorical_cols, drop_first=False):\n",
    "    dataframe = pd.get_dummies(dataframe, columns=categorical_cols, drop_first=drop_first)\n",
    "    return dataframe"
   ]
  },
  {
   "cell_type": "code",
   "execution_count": 22,
   "id": "aae1ce5f",
   "metadata": {},
   "outputs": [],
   "source": [
    "# Get a list of all columns and their type\n",
    "df = one_hot_encoder(df, cat, drop_first=True)"
   ]
  },
  {
   "cell_type": "code",
   "execution_count": 32,
   "id": "ea9ae6c5",
   "metadata": {},
   "outputs": [
    {
     "data": {
      "text/html": [
       "<div>\n",
       "<style scoped>\n",
       "    .dataframe tbody tr th:only-of-type {\n",
       "        vertical-align: middle;\n",
       "    }\n",
       "\n",
       "    .dataframe tbody tr th {\n",
       "        vertical-align: top;\n",
       "    }\n",
       "\n",
       "    .dataframe thead th {\n",
       "        text-align: right;\n",
       "    }\n",
       "</style>\n",
       "<table border=\"1\" class=\"dataframe\">\n",
       "  <thead>\n",
       "    <tr style=\"text-align: right;\">\n",
       "      <th></th>\n",
       "      <th>Id</th>\n",
       "      <th>MSSubClass</th>\n",
       "      <th>LotFrontage</th>\n",
       "      <th>LotArea</th>\n",
       "      <th>OverallQual</th>\n",
       "      <th>OverallCond</th>\n",
       "      <th>YearBuilt</th>\n",
       "      <th>YearRemodAdd</th>\n",
       "      <th>MasVnrArea</th>\n",
       "      <th>BsmtFinSF1</th>\n",
       "      <th>...</th>\n",
       "      <th>SaleType_ConLI</th>\n",
       "      <th>SaleType_ConLw</th>\n",
       "      <th>SaleType_New</th>\n",
       "      <th>SaleType_Oth</th>\n",
       "      <th>SaleType_WD</th>\n",
       "      <th>SaleCondition_AdjLand</th>\n",
       "      <th>SaleCondition_Alloca</th>\n",
       "      <th>SaleCondition_Family</th>\n",
       "      <th>SaleCondition_Normal</th>\n",
       "      <th>SaleCondition_Partial</th>\n",
       "    </tr>\n",
       "  </thead>\n",
       "  <tbody>\n",
       "    <tr>\n",
       "      <th>0</th>\n",
       "      <td>1</td>\n",
       "      <td>60</td>\n",
       "      <td>65.0</td>\n",
       "      <td>8450</td>\n",
       "      <td>7</td>\n",
       "      <td>5</td>\n",
       "      <td>2003</td>\n",
       "      <td>2003</td>\n",
       "      <td>196.0</td>\n",
       "      <td>706</td>\n",
       "      <td>...</td>\n",
       "      <td>0</td>\n",
       "      <td>0</td>\n",
       "      <td>0</td>\n",
       "      <td>0</td>\n",
       "      <td>1</td>\n",
       "      <td>0</td>\n",
       "      <td>0</td>\n",
       "      <td>0</td>\n",
       "      <td>1</td>\n",
       "      <td>0</td>\n",
       "    </tr>\n",
       "    <tr>\n",
       "      <th>1</th>\n",
       "      <td>2</td>\n",
       "      <td>20</td>\n",
       "      <td>80.0</td>\n",
       "      <td>9600</td>\n",
       "      <td>6</td>\n",
       "      <td>8</td>\n",
       "      <td>1976</td>\n",
       "      <td>1976</td>\n",
       "      <td>0.0</td>\n",
       "      <td>978</td>\n",
       "      <td>...</td>\n",
       "      <td>0</td>\n",
       "      <td>0</td>\n",
       "      <td>0</td>\n",
       "      <td>0</td>\n",
       "      <td>1</td>\n",
       "      <td>0</td>\n",
       "      <td>0</td>\n",
       "      <td>0</td>\n",
       "      <td>1</td>\n",
       "      <td>0</td>\n",
       "    </tr>\n",
       "    <tr>\n",
       "      <th>2</th>\n",
       "      <td>3</td>\n",
       "      <td>60</td>\n",
       "      <td>68.0</td>\n",
       "      <td>11250</td>\n",
       "      <td>7</td>\n",
       "      <td>5</td>\n",
       "      <td>2001</td>\n",
       "      <td>2002</td>\n",
       "      <td>162.0</td>\n",
       "      <td>486</td>\n",
       "      <td>...</td>\n",
       "      <td>0</td>\n",
       "      <td>0</td>\n",
       "      <td>0</td>\n",
       "      <td>0</td>\n",
       "      <td>1</td>\n",
       "      <td>0</td>\n",
       "      <td>0</td>\n",
       "      <td>0</td>\n",
       "      <td>1</td>\n",
       "      <td>0</td>\n",
       "    </tr>\n",
       "    <tr>\n",
       "      <th>3</th>\n",
       "      <td>4</td>\n",
       "      <td>70</td>\n",
       "      <td>60.0</td>\n",
       "      <td>9550</td>\n",
       "      <td>7</td>\n",
       "      <td>5</td>\n",
       "      <td>1915</td>\n",
       "      <td>1970</td>\n",
       "      <td>0.0</td>\n",
       "      <td>216</td>\n",
       "      <td>...</td>\n",
       "      <td>0</td>\n",
       "      <td>0</td>\n",
       "      <td>0</td>\n",
       "      <td>0</td>\n",
       "      <td>1</td>\n",
       "      <td>0</td>\n",
       "      <td>0</td>\n",
       "      <td>0</td>\n",
       "      <td>0</td>\n",
       "      <td>0</td>\n",
       "    </tr>\n",
       "    <tr>\n",
       "      <th>4</th>\n",
       "      <td>5</td>\n",
       "      <td>60</td>\n",
       "      <td>84.0</td>\n",
       "      <td>14260</td>\n",
       "      <td>8</td>\n",
       "      <td>5</td>\n",
       "      <td>2000</td>\n",
       "      <td>2000</td>\n",
       "      <td>350.0</td>\n",
       "      <td>655</td>\n",
       "      <td>...</td>\n",
       "      <td>0</td>\n",
       "      <td>0</td>\n",
       "      <td>0</td>\n",
       "      <td>0</td>\n",
       "      <td>1</td>\n",
       "      <td>0</td>\n",
       "      <td>0</td>\n",
       "      <td>0</td>\n",
       "      <td>1</td>\n",
       "      <td>0</td>\n",
       "    </tr>\n",
       "  </tbody>\n",
       "</table>\n",
       "<p>5 rows × 247 columns</p>\n",
       "</div>"
      ],
      "text/plain": [
       "   Id  MSSubClass  LotFrontage  LotArea  OverallQual  OverallCond  YearBuilt  \\\n",
       "0   1          60         65.0     8450            7            5       2003   \n",
       "1   2          20         80.0     9600            6            8       1976   \n",
       "2   3          60         68.0    11250            7            5       2001   \n",
       "3   4          70         60.0     9550            7            5       1915   \n",
       "4   5          60         84.0    14260            8            5       2000   \n",
       "\n",
       "   YearRemodAdd  MasVnrArea  BsmtFinSF1  ...  SaleType_ConLI  SaleType_ConLw  \\\n",
       "0          2003       196.0         706  ...               0               0   \n",
       "1          1976         0.0         978  ...               0               0   \n",
       "2          2002       162.0         486  ...               0               0   \n",
       "3          1970         0.0         216  ...               0               0   \n",
       "4          2000       350.0         655  ...               0               0   \n",
       "\n",
       "   SaleType_New  SaleType_Oth  SaleType_WD  SaleCondition_AdjLand  \\\n",
       "0             0             0            1                      0   \n",
       "1             0             0            1                      0   \n",
       "2             0             0            1                      0   \n",
       "3             0             0            1                      0   \n",
       "4             0             0            1                      0   \n",
       "\n",
       "   SaleCondition_Alloca  SaleCondition_Family  SaleCondition_Normal  \\\n",
       "0                     0                     0                     1   \n",
       "1                     0                     0                     1   \n",
       "2                     0                     0                     1   \n",
       "3                     0                     0                     0   \n",
       "4                     0                     0                     1   \n",
       "\n",
       "   SaleCondition_Partial  \n",
       "0                      0  \n",
       "1                      0  \n",
       "2                      0  \n",
       "3                      0  \n",
       "4                      0  \n",
       "\n",
       "[5 rows x 247 columns]"
      ]
     },
     "execution_count": 32,
     "metadata": {},
     "output_type": "execute_result"
    }
   ],
   "source": [
    "# Map all categorical columns at once\n",
    "df.head()"
   ]
  },
  {
   "cell_type": "code",
   "execution_count": 23,
   "id": "e83580f5",
   "metadata": {},
   "outputs": [],
   "source": [
    "df.isnull().sum()\n",
    "df = df.dropna()"
   ]
  },
  {
   "cell_type": "code",
   "execution_count": 34,
   "id": "fcfa11e3",
   "metadata": {},
   "outputs": [
    {
     "data": {
      "text/plain": [
       "(1121, 247)"
      ]
     },
     "execution_count": 34,
     "metadata": {},
     "output_type": "execute_result"
    }
   ],
   "source": [
    "df.shape"
   ]
  },
  {
   "cell_type": "code",
   "execution_count": 24,
   "id": "ea654aa6",
   "metadata": {},
   "outputs": [],
   "source": [
    "# separate data into lables, X and y\n",
    "X = df.drop(['SalePrice'], axis=1)\n",
    "y = np.log(df['SalePrice'])"
   ]
  },
  {
   "cell_type": "code",
   "execution_count": 36,
   "id": "d2b4f0f8",
   "metadata": {},
   "outputs": [
    {
     "data": {
      "text/plain": [
       "Id                       0\n",
       "MSSubClass               0\n",
       "LotFrontage              0\n",
       "LotArea                  0\n",
       "OverallQual              0\n",
       "                        ..\n",
       "SaleCondition_AdjLand    0\n",
       "SaleCondition_Alloca     0\n",
       "SaleCondition_Family     0\n",
       "SaleCondition_Normal     0\n",
       "SaleCondition_Partial    0\n",
       "Length: 246, dtype: int64"
      ]
     },
     "execution_count": 36,
     "metadata": {},
     "output_type": "execute_result"
    }
   ],
   "source": [
    "X.isnull().sum()"
   ]
  },
  {
   "cell_type": "code",
   "execution_count": 25,
   "id": "31b1e373",
   "metadata": {},
   "outputs": [],
   "source": [
    "X_train, X_test, y_train, y_test = train_test_split(X, y, test_size = 0.3)"
   ]
  },
  {
   "cell_type": "code",
   "execution_count": 26,
   "id": "616fa4fd",
   "metadata": {},
   "outputs": [],
   "source": [
    "model = GradientBoostingRegressor()"
   ]
  },
  {
   "cell_type": "code",
   "execution_count": 27,
   "id": "ad92251d",
   "metadata": {},
   "outputs": [
    {
     "data": {
      "text/plain": [
       "GradientBoostingRegressor()"
      ]
     },
     "execution_count": 27,
     "metadata": {},
     "output_type": "execute_result"
    }
   ],
   "source": [
    "model.fit(X_train, y_train)"
   ]
  },
  {
   "cell_type": "code",
   "execution_count": 28,
   "id": "7261d998",
   "metadata": {},
   "outputs": [],
   "source": [
    "training_prediction = model.predict(X_train)"
   ]
  },
  {
   "cell_type": "code",
   "execution_count": 29,
   "id": "e76531a9",
   "metadata": {},
   "outputs": [],
   "source": [
    "score_1 = metrics.r2_score(y_train, training_prediction)"
   ]
  },
  {
   "cell_type": "code",
   "execution_count": 30,
   "id": "1d839e14",
   "metadata": {},
   "outputs": [
    {
     "name": "stdout",
     "output_type": "stream",
     "text": [
      "R2:  0.9726552001002253\n",
      "MAE:  0.05016855805527213\n"
     ]
    }
   ],
   "source": [
    "score_2 = metrics.mean_absolute_error(y_train, training_prediction)\n",
    "\n",
    "print(\"R2: \", score_1)\n",
    "print(\"MAE: \", score_2)"
   ]
  },
  {
   "cell_type": "code",
   "execution_count": 87,
   "id": "c906f024",
   "metadata": {},
   "outputs": [
    {
     "data": {
      "text/plain": [
       "array([178420.38507443, 195290.49180039, 272897.08443945, 160578.05837398,\n",
       "       127873.42318098, 157146.2241754 , 134331.51608794, 208862.19851879,\n",
       "       353133.61574245,  46455.92539016, 182463.79358074, 293450.16448201,\n",
       "       271198.57633695, 172675.48367114, 190605.28755546, 153980.21548953,\n",
       "       141460.62345074, 128108.14505803, 148100.86315883, 183902.66750857,\n",
       "       182235.59253427, 152387.96898541, 129979.57074305, 268906.09614227,\n",
       "       212036.22462261, 171274.28189442, 289934.61844195, 335611.07710795,\n",
       "       106577.54082586, 137457.52255011, 162952.98380828, 118427.85289028,\n",
       "       141395.28131237, 134201.15117043, 214976.59619923, 137820.99776017,\n",
       "       118885.35484442, 126222.98869511, 112724.33452652, 178575.00478344,\n",
       "       130191.61918668, 255423.23385405, 243553.86996414, 312599.05082078,\n",
       "       254949.69830931, 368727.50509808, 156602.18153539, 293582.86905253,\n",
       "       183927.48108296, 110931.62245153, 171095.96342429, 169385.7884107 ,\n",
       "       124874.68181912, 188825.5908685 , 200731.84670399, 156264.14461771,\n",
       "       133408.06723842, 133401.35710693, 155486.01491446, 259181.18626394,\n",
       "       129612.14684807, 213937.25668477, 359339.45110288, 111930.47146547,\n",
       "       151114.71232273, 121946.5946301 , 163323.73505374, 169696.10664229,\n",
       "       127507.81959714, 140972.65758871, 145362.38401314, 127905.70097296,\n",
       "       348188.79129272, 280245.30824206, 144569.952703  , 113081.17059069,\n",
       "       214377.30817434, 186254.90682197, 193913.64067078, 151899.01691711,\n",
       "       162947.23727634, 256952.60303568, 123947.66225899, 147892.42981643,\n",
       "       181966.94658805, 156757.15950729, 127199.88980321, 122398.37657117,\n",
       "       162296.49333935, 137856.79542582, 127385.93149504, 183790.56159389,\n",
       "       192823.63122952, 159649.22121172, 383365.79274236, 166423.27650009,\n",
       "       209938.48074625, 340071.1911804 , 150049.98354216, 164422.42680249,\n",
       "       211918.93462129, 168439.66909052, 322451.10174152, 133598.53922604,\n",
       "       228959.73772987,  90510.00180398,  85985.25216881, 370263.51203054,\n",
       "       104574.29700173, 128655.06491914, 257067.74263221, 235950.11779304,\n",
       "       228198.88618631, 259061.61153622, 186211.28921823, 147730.223612  ,\n",
       "       202900.63546295, 195942.52731864, 201244.40944071, 180960.5155568 ,\n",
       "       144025.24376669, 176714.59319927, 136719.95852219, 208813.93111167,\n",
       "       111856.19677745, 163315.782345  , 214218.74644909, 111170.94040298,\n",
       "       405098.10814568, 153289.00339875, 100127.15695853, 113720.11180497,\n",
       "       100537.84841583, 126174.28059244, 385041.7618633 ,  95508.02190707,\n",
       "       393779.72871096, 106523.93262927, 141495.34126773, 125789.06865478,\n",
       "       148891.50184133, 272154.76769868, 173121.04603689, 176499.81917983,\n",
       "       134320.50008347, 160197.85124965, 233395.10355878, 144453.30677354,\n",
       "       155709.30924601, 190765.77190257, 230343.72382884,  63282.47484242,\n",
       "       274797.09101151, 107094.60750772, 124731.78508764, 123036.43342151,\n",
       "       223929.38869079, 379000.5049816 ,  85391.31096116, 156156.77780102,\n",
       "       136200.51666903, 234360.52221736, 172309.34618378, 130468.84900327,\n",
       "       212343.94534493, 117440.83473983, 192049.14522524, 171438.68709296,\n",
       "       157646.82954853, 138498.17214738, 171962.63606853, 290630.26288639,\n",
       "        93829.99115514, 152656.87695498, 144770.29402214,  99740.9012365 ,\n",
       "       115847.29994141, 306211.5552128 , 384216.29852334, 188945.75443828,\n",
       "       316435.90424479, 118136.3272292 , 184693.3117092 , 273642.93484944,\n",
       "       190381.68641561, 118239.60611878, 199199.44719748, 163924.65667864,\n",
       "       111307.07232402, 237976.21668037, 404546.25345374, 158629.97756501,\n",
       "       256206.10963427, 239397.62847206, 141755.70600627, 537720.01180774,\n",
       "       169554.39451257, 134514.92380146, 125991.50080735, 136900.0402113 ,\n",
       "       134908.62622051, 248489.74467339, 394299.22515124, 228663.39513544,\n",
       "       126648.16969423, 220668.0419365 , 117298.44352235, 139647.73052686,\n",
       "       257480.62881844, 139611.29801678, 144304.18163562, 187281.30286698,\n",
       "       130482.66671383, 132275.58293024, 126370.43817286, 142845.05851069,\n",
       "       134309.80129501, 129595.31305472, 143635.24397917, 133004.01328406,\n",
       "       310062.06099063,  85659.77708088, 176250.51454829, 328235.07261486,\n",
       "       208886.47496751, 161172.88942782, 242886.90931321, 210922.90587048,\n",
       "       203916.68849345, 212570.70605251, 161944.84030139, 316600.22847162,\n",
       "       208392.00692104, 156974.37544365, 162933.6813416 , 183480.41853014,\n",
       "       178784.97192735, 147200.03488043, 192371.93730873, 209572.08236491,\n",
       "       210869.14820261, 170972.03642181, 201984.36426919, 350523.75211544,\n",
       "       248608.69596719, 244238.55822363, 237388.3313008 , 136910.81380862,\n",
       "       136681.63236404, 292505.77317656, 194716.69608976, 162328.6985443 ,\n",
       "        86055.67817555, 136058.19793026, 192912.66542896, 211939.04696891,\n",
       "       140874.33959288, 189778.6939567 , 480066.26031006, 205922.14289968,\n",
       "        85303.28707878, 127510.67949157, 139318.92645613, 133196.03318   ,\n",
       "       169481.57994585, 277350.20945369, 260475.84458382,  82726.00860594,\n",
       "       313289.90711859, 221609.6782407 ,  67504.88208879, 234959.19642885,\n",
       "       122515.38125784, 151735.7531804 , 161801.19938055, 185473.92250115,\n",
       "       211062.00088707,  98175.22524864, 155268.01617267,  84011.10433013,\n",
       "        67197.58312127, 154374.66665629, 214024.13574571, 195872.65197407,\n",
       "       114356.15948346,  98644.38788846, 132298.36952001, 122935.45888889,\n",
       "       298715.18656502, 202263.00746367, 248078.90137254, 398073.59686243,\n",
       "       148133.41210933, 208682.21173704, 205919.20885784, 278635.48549171,\n",
       "       199606.36426147,  85335.2057929 , 320350.63928477, 175017.59430155,\n",
       "       107284.58028141, 150497.79829566, 244921.2500911 , 106515.75328053,\n",
       "       110777.48277681, 154154.18223603, 151562.98051363, 151592.22150981,\n",
       "       154721.44252685, 223693.33112859, 141865.57877947, 238566.21450636,\n",
       "        89353.10087006, 191654.49350677, 126140.04471505, 214262.96927689,\n",
       "       196898.35648057, 195816.33248564,  95550.47724336, 336137.33096699,\n",
       "       132411.58662405, 131256.83326414, 164410.40257151, 158401.01172001,\n",
       "       146205.29992568, 147554.48823134, 238500.86909748,  94080.9932034 ,\n",
       "       280129.93213943,  81483.50059953, 178357.31034619, 149215.07492925,\n",
       "       125645.16569621, 108552.64292034, 222978.05881358, 125747.71655701,\n",
       "       160129.54675793, 220839.29882905, 169182.35998725, 208375.91052153,\n",
       "       193487.800242  , 103606.32182876, 141814.15549348, 177152.0263262 ,\n",
       "       166883.50375406, 236226.6478915 , 179910.56647532, 295635.47137098,\n",
       "       212371.44081862, 135300.33155724, 272255.86333397, 203436.35507506,\n",
       "        79092.80714306, 376123.10849039, 279836.87118334, 191067.92650173,\n",
       "       109687.69573488, 224215.62617642, 138460.77863526, 138532.48840799,\n",
       "       122829.66494202, 190149.78359352, 128045.03270739, 347330.59743276,\n",
       "       121363.10650185, 223149.5158031 , 293594.69623396,  81365.98338319,\n",
       "       188587.99817386, 217770.53942988, 203327.35685932, 203623.16862412,\n",
       "       201957.34197479, 121982.67709645, 150727.06890512, 166773.32979416,\n",
       "       117006.50557403, 219679.84093496, 125579.74703488, 191790.12662757,\n",
       "       116477.34504947, 200580.51349265, 130785.58559843, 130637.38886067,\n",
       "       235710.82903519, 137427.38944898,  95022.18771185, 161844.22664986,\n",
       "       142095.08640061, 150402.55045261, 126393.13249329, 102832.17338354,\n",
       "       176211.82128165, 150112.61767214, 195789.31999133, 160214.8634033 ,\n",
       "       145887.19301479, 188182.57666192, 132350.13497922, 127825.06742857,\n",
       "       238079.4004621 , 139866.84207043, 274559.29750838, 131744.00693606,\n",
       "       183832.1308107 , 134565.24095201, 148170.92608916, 143192.56140659,\n",
       "       113238.67163077, 194819.42526896, 177959.62238979, 148243.61225293,\n",
       "       140700.91641866, 275363.5384043 ,  94158.89078312, 129304.13551439,\n",
       "       254445.16087446, 266430.36455489, 350318.06931559, 152176.17174386,\n",
       "       244403.78540033, 146752.52582703, 217974.78926291, 191122.72528954,\n",
       "       368836.61834701, 425162.57138688, 172486.88814872,  91151.7493098 ,\n",
       "       120578.21162859, 190342.19030061, 108708.60626796, 228562.35589003,\n",
       "       207352.23227657, 148680.87483724, 144643.76668697, 145293.33475502,\n",
       "       137107.49846142, 347899.77993711, 113463.10756159,  95453.28423554,\n",
       "       148734.28187362, 180400.20323036, 322297.72625966, 234566.79109743,\n",
       "       130858.47106467, 144736.05724587, 322744.1906338 , 245505.35789615,\n",
       "       147133.39000508, 134860.22626639, 138855.13427199, 237009.68004904,\n",
       "       126111.88227016, 202213.81615883, 186453.68078068, 106678.57639641,\n",
       "       145724.50329923, 181650.72802693, 104547.18770361, 212002.31290733,\n",
       "        61978.38011588, 120050.04839004, 168660.07627347, 134938.90282082,\n",
       "       124798.81341036,  91623.47471932, 385134.45386396, 123458.83472039,\n",
       "       167933.06950251, 113078.24533331, 134587.0862207 , 114781.6968001 ,\n",
       "       297669.20096016, 152519.30768402, 207052.12002662, 247561.44690588,\n",
       "       166350.47240511, 120124.05048523, 189227.47514709, 150853.50169875,\n",
       "       157968.2065789 , 155489.06018752, 302998.88594715, 180838.20764075,\n",
       "       125697.78532601, 149616.8069909 , 182029.59644996, 154465.94043961,\n",
       "       186375.53731025, 259003.40568643, 139458.23050183, 120957.13960604,\n",
       "       302531.15736474, 176131.9486718 , 145587.44532044, 128659.61720765,\n",
       "       188150.82542534, 122404.81689613, 139884.73237437, 194370.70014636,\n",
       "       126367.51502232, 152740.64811818, 142741.28002906, 105510.46677209,\n",
       "        97593.32924525, 205505.29585986, 184145.17228416, 170853.42929616,\n",
       "       198397.91591676, 180335.16170605, 223370.35214427, 179513.64054275,\n",
       "       166227.10091797, 208561.20675781,  77323.2014979 , 279033.32285561,\n",
       "       135965.17358138, 163798.06258025, 336924.07379088, 165516.25210259,\n",
       "       157002.09887475, 191421.22525718, 227469.23051503, 132663.56934951,\n",
       "       257280.7983016 , 195089.91353798, 187613.79902228,  92528.91245019,\n",
       "       205081.28574459, 140298.64482807, 205530.04299615, 168372.05066169,\n",
       "       121226.84090853, 112721.25006725, 146165.07478816, 125852.10298635,\n",
       "       328381.17411147, 178395.69117396, 246756.26191295, 533290.16281458,\n",
       "       273308.76113417, 147870.28100154,  97284.89850318, 127966.60647653,\n",
       "       142114.37301482, 249714.84705186, 209962.23159826, 318637.21033482,\n",
       "       161906.5847168 , 145274.58581188, 452046.41994661, 200056.74679278,\n",
       "       123928.60262084, 356545.14871862, 111263.83396176, 310359.24845316,\n",
       "       124227.42890933, 159806.44919309, 128254.58887409, 223032.59016226,\n",
       "       204262.22271819, 332234.13450922, 241629.23727251, 157709.86369611,\n",
       "       165030.98089317, 162368.16769925, 203047.88999845, 137501.70518048,\n",
       "       162307.48051235, 220814.2612939 , 202144.43926413, 151044.56699949,\n",
       "       111344.01245046, 199949.03376541, 187059.49918673, 253647.73380721,\n",
       "       443113.43526585, 233588.15692794, 140016.65745261, 215982.21071559,\n",
       "       165679.99901684, 186215.20214971, 314542.33023947, 144342.8563965 ,\n",
       "       189186.11765005, 101135.0212179 , 258861.10905515, 238505.06418681,\n",
       "       135034.21788348, 119851.30602982,  92328.25303236, 153754.78966453,\n",
       "       325548.58323653, 160713.11624141, 216348.65882871, 136825.59889246,\n",
       "       136718.68219046,  86726.992067  , 252462.05711378, 133109.69271424,\n",
       "       127985.7314817 , 140499.95262344, 137592.50077851,  90364.36045159,\n",
       "       191760.11640497, 115981.65503033, 119318.32041441, 323266.79777265,\n",
       "       118971.48971429, 302347.47140924, 154710.6250262 , 269938.51315284,\n",
       "       112977.86233477, 388554.78195828, 407872.63723867, 328094.89818196,\n",
       "       124060.71325349, 174362.04993253, 254993.75799509, 153134.68596297,\n",
       "       135860.2173785 , 265001.03380386, 103990.36020273, 187273.68437265,\n",
       "       300753.85116953, 145644.45435456, 142102.34564764, 151672.44256864,\n",
       "       137594.25094504, 143878.37762047, 341431.93585964, 272885.14924917,\n",
       "       181677.77240152, 456027.31003395, 150544.19349218, 327477.39242732,\n",
       "       145448.08338136, 125518.29034389, 226762.36136667, 112193.42754308,\n",
       "       165334.97231001, 133476.49080624,  89187.44814715, 118172.69875523,\n",
       "        99702.30323644, 205370.98071319, 204909.83652871, 172256.00133655,\n",
       "       136692.5723014 , 326263.03527725,  94884.3767279 , 241899.24095974,\n",
       "       225407.86831338, 124587.65073888, 138342.13420006, 150914.73672643,\n",
       "       197213.27717352, 220627.26907159, 143178.32690129, 205977.05912535,\n",
       "       117661.99673436, 144646.58964668, 193732.02008789, 116895.47727162,\n",
       "       106610.8159638 , 189921.69806425, 191788.72840469, 178273.98015889,\n",
       "       173746.26923823, 152677.37014826, 125211.36629245, 153585.56410318,\n",
       "       151606.13968979, 144993.71318318, 174020.08618406, 106974.54317684,\n",
       "        94247.31398794, 307666.72133067, 125448.31306242, 136101.88091397,\n",
       "       133401.14352395, 220552.93566328,  92404.25323942, 147189.03325462,\n",
       "       187826.00136928, 234814.08337346, 178067.29489359, 134037.90800293,\n",
       "       197783.23614298, 162767.64514265, 146404.46719393, 177462.87153052,\n",
       "       115651.9512848 , 124758.42206783, 196395.76495467, 211346.77829594,\n",
       "       225837.12240159,  91352.05975021, 408919.31397297, 138392.41537363,\n",
       "        36974.84882537,  94255.48616181, 138455.9685678 , 123934.5569801 ,\n",
       "       129278.30089652, 130840.20899962, 136961.37717405, 212468.8476505 ,\n",
       "       206717.68342131, 124961.47712837, 145443.78818249, 265960.78259061,\n",
       "        89705.91214818, 145279.75959167, 136317.80399201, 133559.0333079 ,\n",
       "       216965.13698331, 174188.2817062 ,  97295.59031049, 156024.77494229,\n",
       "       125275.26010465, 190950.82382864,  90170.68650168, 194789.17733089,\n",
       "       393967.22391422, 352946.5717718 , 271710.66354157, 114309.14649857,\n",
       "       172885.09076018, 173874.56217248,  82309.15158846, 134403.76087417,\n",
       "       166337.50721404, 281501.1577908 , 219659.1301645 , 120448.51111765,\n",
       "       371924.66400552, 119977.66798151, 163510.24146959, 120413.4100865 ,\n",
       "       128582.84580539, 134983.40247054, 234329.83248179, 359868.25712493,\n",
       "       156764.83838712, 131352.07024087, 307404.2495793 , 107167.54816561,\n",
       "       685524.66531659, 174893.28331271, 164504.88110201, 276178.8582017 ,\n",
       "       170791.85798256, 128846.38809752, 155074.42892148, 157743.19298511,\n",
       "       203128.52492824, 220075.83813279, 146171.35032249, 175250.80734274,\n",
       "       154873.11223585, 117655.45213369,  79970.79810259, 161722.98497723,\n",
       "       175783.56236016, 121427.8141083 , 167153.40292734,  72330.04703967,\n",
       "       127398.53744921, 148599.23409573, 277523.32590178, 313079.20450595,\n",
       "       304592.77995345, 346096.73065666, 176082.61704841, 183957.57616592,\n",
       "       174780.06683883, 186466.03666015, 186570.74488731, 150811.02725367,\n",
       "       181826.51683931,  96461.87345343, 235131.23130529, 145019.67005657])"
      ]
     },
     "execution_count": 87,
     "metadata": {},
     "output_type": "execute_result"
    }
   ],
   "source": [
    "np.exp(training_prediction)"
   ]
  },
  {
   "cell_type": "code",
   "execution_count": 31,
   "id": "cf673a31",
   "metadata": {},
   "outputs": [],
   "source": [
    "test_pred = model.predict(X_test)"
   ]
  },
  {
   "cell_type": "code",
   "execution_count": 32,
   "id": "e4a10be6",
   "metadata": {},
   "outputs": [
    {
     "name": "stdout",
     "output_type": "stream",
     "text": [
      "0.8642294764762086 \n",
      " 0.09724334037145073\n"
     ]
    }
   ],
   "source": [
    "score_3 = metrics.r2_score(y_test, test_pred)\n",
    "score_4 = metrics.mean_absolute_error(y_test, test_pred)\n",
    "print(score_3, \"\\n\", score_4)"
   ]
  },
  {
   "cell_type": "code",
   "execution_count": 33,
   "id": "0754c369",
   "metadata": {},
   "outputs": [],
   "source": [
    "### Now see how test holds up\n",
    "df_test = pd.read_csv(\"C:\\\\Users\\\\boydd\\\\Downloads\\\\test (1).csv\")"
   ]
  },
  {
   "cell_type": "code",
   "execution_count": 34,
   "id": "73727295",
   "metadata": {},
   "outputs": [],
   "source": [
    "df_test = df_test.drop(['Alley', 'MiscFeature'], axis=1)"
   ]
  },
  {
   "cell_type": "code",
   "execution_count": 35,
   "id": "1c3c05ce",
   "metadata": {},
   "outputs": [],
   "source": [
    "df_test = pd.get_dummies(df_test, columns=[\"MSZoning\"])"
   ]
  },
  {
   "cell_type": "code",
   "execution_count": 36,
   "id": "9e8863ce",
   "metadata": {},
   "outputs": [],
   "source": [
    "cat_test = df_test.select_dtypes(include='O').keys()"
   ]
  },
  {
   "cell_type": "code",
   "execution_count": 37,
   "id": "418e6c18",
   "metadata": {},
   "outputs": [],
   "source": [
    "df_test = one_hot_encoder(df_test, cat_test, drop_first=True)"
   ]
  },
  {
   "cell_type": "code",
   "execution_count": 38,
   "id": "f2b8e395",
   "metadata": {},
   "outputs": [],
   "source": [
    "df_test = df_test.fillna(0)"
   ]
  },
  {
   "cell_type": "code",
   "execution_count": 39,
   "id": "c0663a73",
   "metadata": {},
   "outputs": [],
   "source": [
    "missing_cols = set(df.columns) - set(df_test.columns)"
   ]
  },
  {
   "cell_type": "code",
   "execution_count": 40,
   "id": "863f9773",
   "metadata": {},
   "outputs": [],
   "source": [
    "for c in missing_cols:\n",
    "    df_test[c] = 0\n",
    "\n",
    "# ensure the order of the test columns is the same in the training set\n",
    "df_test = df_test[df.columns]"
   ]
  },
  {
   "cell_type": "code",
   "execution_count": 41,
   "id": "c26e7cba",
   "metadata": {},
   "outputs": [
    {
     "data": {
      "text/plain": [
       "{'SalePrice'}"
      ]
     },
     "execution_count": 41,
     "metadata": {},
     "output_type": "execute_result"
    }
   ],
   "source": [
    "missing_cols_train = set(df_test.columns) - set(X.columns)\n",
    "missing_cols_train"
   ]
  },
  {
   "cell_type": "code",
   "execution_count": 42,
   "id": "454ca5f1",
   "metadata": {},
   "outputs": [],
   "source": [
    "df_test = df_test.drop(['SalePrice'],axis=1)"
   ]
  },
  {
   "cell_type": "code",
   "execution_count": 85,
   "id": "da2b3146",
   "metadata": {},
   "outputs": [
    {
     "data": {
      "text/plain": [
       "array([11.73002937, 11.93633382, 12.14683474, ..., 12.01392884,\n",
       "       11.77045135, 12.40273948])"
      ]
     },
     "execution_count": 85,
     "metadata": {},
     "output_type": "execute_result"
    }
   ],
   "source": [
    "model.predict(df_test)"
   ]
  },
  {
   "cell_type": "code",
   "execution_count": 88,
   "id": "147cf37e",
   "metadata": {},
   "outputs": [],
   "source": [
    "predictions = model.predict(df_test)"
   ]
  },
  {
   "cell_type": "code",
   "execution_count": 89,
   "id": "73fb65f1",
   "metadata": {},
   "outputs": [],
   "source": [
    "predictions = np.exp(predictions)"
   ]
  },
  {
   "cell_type": "code",
   "execution_count": 90,
   "id": "f81b08f3",
   "metadata": {},
   "outputs": [],
   "source": [
    "sub = pd.DataFrame()\n",
    "sub['Id'] = df_test.Id"
   ]
  },
  {
   "cell_type": "code",
   "execution_count": 91,
   "id": "e9146944",
   "metadata": {},
   "outputs": [
    {
     "data": {
      "text/html": [
       "<div>\n",
       "<style scoped>\n",
       "    .dataframe tbody tr th:only-of-type {\n",
       "        vertical-align: middle;\n",
       "    }\n",
       "\n",
       "    .dataframe tbody tr th {\n",
       "        vertical-align: top;\n",
       "    }\n",
       "\n",
       "    .dataframe thead th {\n",
       "        text-align: right;\n",
       "    }\n",
       "</style>\n",
       "<table border=\"1\" class=\"dataframe\">\n",
       "  <thead>\n",
       "    <tr style=\"text-align: right;\">\n",
       "      <th></th>\n",
       "      <th>Id</th>\n",
       "      <th>SalePrice</th>\n",
       "    </tr>\n",
       "  </thead>\n",
       "  <tbody>\n",
       "    <tr>\n",
       "      <th>0</th>\n",
       "      <td>1461</td>\n",
       "      <td>124247.319233</td>\n",
       "    </tr>\n",
       "    <tr>\n",
       "      <th>1</th>\n",
       "      <td>1462</td>\n",
       "      <td>152715.778637</td>\n",
       "    </tr>\n",
       "    <tr>\n",
       "      <th>2</th>\n",
       "      <td>1463</td>\n",
       "      <td>188496.504851</td>\n",
       "    </tr>\n",
       "    <tr>\n",
       "      <th>3</th>\n",
       "      <td>1464</td>\n",
       "      <td>184677.432485</td>\n",
       "    </tr>\n",
       "    <tr>\n",
       "      <th>4</th>\n",
       "      <td>1465</td>\n",
       "      <td>195361.765011</td>\n",
       "    </tr>\n",
       "  </tbody>\n",
       "</table>\n",
       "</div>"
      ],
      "text/plain": [
       "     Id      SalePrice\n",
       "0  1461  124247.319233\n",
       "1  1462  152715.778637\n",
       "2  1463  188496.504851\n",
       "3  1464  184677.432485\n",
       "4  1465  195361.765011"
      ]
     },
     "execution_count": 91,
     "metadata": {},
     "output_type": "execute_result"
    }
   ],
   "source": [
    "sub['SalePrice'] = predictions\n",
    "sub.head()"
   ]
  },
  {
   "cell_type": "code",
   "execution_count": 92,
   "id": "bd5c69a1",
   "metadata": {},
   "outputs": [],
   "source": [
    "sub.to_csv(\"C:\\\\Users\\\\boydd\\\\Downloads\\\\Housing_Submission1.csv\", index=False)"
   ]
  },
  {
   "cell_type": "code",
   "execution_count": 57,
   "id": "a154cf3a",
   "metadata": {},
   "outputs": [
    {
     "data": {
      "text/html": [
       "<div>\n",
       "<style scoped>\n",
       "    .dataframe tbody tr th:only-of-type {\n",
       "        vertical-align: middle;\n",
       "    }\n",
       "\n",
       "    .dataframe tbody tr th {\n",
       "        vertical-align: top;\n",
       "    }\n",
       "\n",
       "    .dataframe thead th {\n",
       "        text-align: right;\n",
       "    }\n",
       "</style>\n",
       "<table border=\"1\" class=\"dataframe\">\n",
       "  <thead>\n",
       "    <tr style=\"text-align: right;\">\n",
       "      <th></th>\n",
       "      <th>Id</th>\n",
       "      <th>MSSubClass</th>\n",
       "      <th>LotFrontage</th>\n",
       "      <th>LotArea</th>\n",
       "      <th>OverallQual</th>\n",
       "      <th>OverallCond</th>\n",
       "      <th>YearBuilt</th>\n",
       "      <th>YearRemodAdd</th>\n",
       "      <th>MasVnrArea</th>\n",
       "      <th>BsmtFinSF1</th>\n",
       "      <th>...</th>\n",
       "      <th>SaleType_ConLI</th>\n",
       "      <th>SaleType_ConLw</th>\n",
       "      <th>SaleType_New</th>\n",
       "      <th>SaleType_Oth</th>\n",
       "      <th>SaleType_WD</th>\n",
       "      <th>SaleCondition_AdjLand</th>\n",
       "      <th>SaleCondition_Alloca</th>\n",
       "      <th>SaleCondition_Family</th>\n",
       "      <th>SaleCondition_Normal</th>\n",
       "      <th>SaleCondition_Partial</th>\n",
       "    </tr>\n",
       "  </thead>\n",
       "  <tbody>\n",
       "    <tr>\n",
       "      <th>0</th>\n",
       "      <td>1461</td>\n",
       "      <td>20</td>\n",
       "      <td>80.0</td>\n",
       "      <td>11622</td>\n",
       "      <td>5</td>\n",
       "      <td>6</td>\n",
       "      <td>1961</td>\n",
       "      <td>1961</td>\n",
       "      <td>0.0</td>\n",
       "      <td>468.0</td>\n",
       "      <td>...</td>\n",
       "      <td>0</td>\n",
       "      <td>0</td>\n",
       "      <td>0</td>\n",
       "      <td>0</td>\n",
       "      <td>1</td>\n",
       "      <td>0</td>\n",
       "      <td>0</td>\n",
       "      <td>0</td>\n",
       "      <td>1</td>\n",
       "      <td>0</td>\n",
       "    </tr>\n",
       "    <tr>\n",
       "      <th>1</th>\n",
       "      <td>1462</td>\n",
       "      <td>20</td>\n",
       "      <td>81.0</td>\n",
       "      <td>14267</td>\n",
       "      <td>6</td>\n",
       "      <td>6</td>\n",
       "      <td>1958</td>\n",
       "      <td>1958</td>\n",
       "      <td>108.0</td>\n",
       "      <td>923.0</td>\n",
       "      <td>...</td>\n",
       "      <td>0</td>\n",
       "      <td>0</td>\n",
       "      <td>0</td>\n",
       "      <td>0</td>\n",
       "      <td>1</td>\n",
       "      <td>0</td>\n",
       "      <td>0</td>\n",
       "      <td>0</td>\n",
       "      <td>1</td>\n",
       "      <td>0</td>\n",
       "    </tr>\n",
       "    <tr>\n",
       "      <th>2</th>\n",
       "      <td>1463</td>\n",
       "      <td>60</td>\n",
       "      <td>74.0</td>\n",
       "      <td>13830</td>\n",
       "      <td>5</td>\n",
       "      <td>5</td>\n",
       "      <td>1997</td>\n",
       "      <td>1998</td>\n",
       "      <td>0.0</td>\n",
       "      <td>791.0</td>\n",
       "      <td>...</td>\n",
       "      <td>0</td>\n",
       "      <td>0</td>\n",
       "      <td>0</td>\n",
       "      <td>0</td>\n",
       "      <td>1</td>\n",
       "      <td>0</td>\n",
       "      <td>0</td>\n",
       "      <td>0</td>\n",
       "      <td>1</td>\n",
       "      <td>0</td>\n",
       "    </tr>\n",
       "    <tr>\n",
       "      <th>3</th>\n",
       "      <td>1464</td>\n",
       "      <td>60</td>\n",
       "      <td>78.0</td>\n",
       "      <td>9978</td>\n",
       "      <td>6</td>\n",
       "      <td>6</td>\n",
       "      <td>1998</td>\n",
       "      <td>1998</td>\n",
       "      <td>20.0</td>\n",
       "      <td>602.0</td>\n",
       "      <td>...</td>\n",
       "      <td>0</td>\n",
       "      <td>0</td>\n",
       "      <td>0</td>\n",
       "      <td>0</td>\n",
       "      <td>1</td>\n",
       "      <td>0</td>\n",
       "      <td>0</td>\n",
       "      <td>0</td>\n",
       "      <td>1</td>\n",
       "      <td>0</td>\n",
       "    </tr>\n",
       "    <tr>\n",
       "      <th>4</th>\n",
       "      <td>1465</td>\n",
       "      <td>120</td>\n",
       "      <td>43.0</td>\n",
       "      <td>5005</td>\n",
       "      <td>8</td>\n",
       "      <td>5</td>\n",
       "      <td>1992</td>\n",
       "      <td>1992</td>\n",
       "      <td>0.0</td>\n",
       "      <td>263.0</td>\n",
       "      <td>...</td>\n",
       "      <td>0</td>\n",
       "      <td>0</td>\n",
       "      <td>0</td>\n",
       "      <td>0</td>\n",
       "      <td>1</td>\n",
       "      <td>0</td>\n",
       "      <td>0</td>\n",
       "      <td>0</td>\n",
       "      <td>1</td>\n",
       "      <td>0</td>\n",
       "    </tr>\n",
       "  </tbody>\n",
       "</table>\n",
       "<p>5 rows × 247 columns</p>\n",
       "</div>"
      ],
      "text/plain": [
       "     Id  MSSubClass  LotFrontage  LotArea  OverallQual  OverallCond  \\\n",
       "0  1461          20         80.0    11622            5            6   \n",
       "1  1462          20         81.0    14267            6            6   \n",
       "2  1463          60         74.0    13830            5            5   \n",
       "3  1464          60         78.0     9978            6            6   \n",
       "4  1465         120         43.0     5005            8            5   \n",
       "\n",
       "   YearBuilt  YearRemodAdd  MasVnrArea  BsmtFinSF1  ...  SaleType_ConLI  \\\n",
       "0       1961          1961         0.0       468.0  ...               0   \n",
       "1       1958          1958       108.0       923.0  ...               0   \n",
       "2       1997          1998         0.0       791.0  ...               0   \n",
       "3       1998          1998        20.0       602.0  ...               0   \n",
       "4       1992          1992         0.0       263.0  ...               0   \n",
       "\n",
       "   SaleType_ConLw  SaleType_New  SaleType_Oth  SaleType_WD  \\\n",
       "0               0             0             0            1   \n",
       "1               0             0             0            1   \n",
       "2               0             0             0            1   \n",
       "3               0             0             0            1   \n",
       "4               0             0             0            1   \n",
       "\n",
       "   SaleCondition_AdjLand  SaleCondition_Alloca  SaleCondition_Family  \\\n",
       "0                      0                     0                     0   \n",
       "1                      0                     0                     0   \n",
       "2                      0                     0                     0   \n",
       "3                      0                     0                     0   \n",
       "4                      0                     0                     0   \n",
       "\n",
       "   SaleCondition_Normal  SaleCondition_Partial  \n",
       "0                     1                      0  \n",
       "1                     1                      0  \n",
       "2                     1                      0  \n",
       "3                     1                      0  \n",
       "4                     1                      0  \n",
       "\n",
       "[5 rows x 247 columns]"
      ]
     },
     "execution_count": 57,
     "metadata": {},
     "output_type": "execute_result"
    }
   ],
   "source": [
    "df_test.head()"
   ]
  },
  {
   "cell_type": "code",
   "execution_count": 3,
   "id": "285b17a2",
   "metadata": {},
   "outputs": [],
   "source": [
    "# Different regression models to try\n",
    "\n",
    "from sklearn.ensemble import AdaBoostRegressor\n",
    "from sklearn.tree import DecisionTreeRegressor\n",
    "from sklearn.ensemble import RandomForestRegressor\n",
    "from sklearn.neighbors import KNeighborsRegressor\n",
    "from sklearn.svm import SVR\n",
    "\n",
    "from sklearn.model_selection import GridSearchCV"
   ]
  },
  {
   "cell_type": "code",
   "execution_count": 43,
   "id": "3486d047",
   "metadata": {},
   "outputs": [
    {
     "name": "stdout",
     "output_type": "stream",
     "text": [
      "The best hyper parameters for AdaBoost are:  {'learning_rate': 3, 'n_estimators': 500}\n"
     ]
    }
   ],
   "source": [
    "# Ada Boost\n",
    "tuned_parameters = [{'learning_rate': [0.1,1,2,3,4,5], 'n_estimators': [100,200,300,400,500]}]\n",
    "MSE_ada = ['mean_squared_error(y_test,y_pred3)']\n",
    "for value in MSE_ada:\n",
    "    adaregr = GridSearchCV(AdaBoostRegressor(), tuned_parameters,cv=4)\n",
    "    adaregr.fit(X_train, y_train)\n",
    "    y_true, y_pred3 = y_test, adaregr.predict(X_test)\n",
    "\n",
    "print('The best hyper parameters for AdaBoost are: ', adaregr.best_params_)"
   ]
  },
  {
   "cell_type": "code",
   "execution_count": 66,
   "id": "8ca6c521",
   "metadata": {},
   "outputs": [],
   "source": [
    "ada = AdaBoostRegressor(n_estimators=500,learning_rate=3)\n",
    "ada.fit(X_train,y_train)\n",
    "ada_train_preds = ada.predict(X_train)"
   ]
  },
  {
   "cell_type": "code",
   "execution_count": 67,
   "id": "7282300b",
   "metadata": {},
   "outputs": [
    {
     "name": "stdout",
     "output_type": "stream",
     "text": [
      "R2:  0.8339150004267976\n",
      "MAE:  0.10947873032448743\n"
     ]
    }
   ],
   "source": [
    "ada_preds = ada.predict(X_test)\n",
    "print('R2: ', metrics.r2_score(y_test, ada_preds))\n",
    "print('MAE: ', metrics.mean_absolute_error(y_test, ada_preds))"
   ]
  },
  {
   "cell_type": "markdown",
   "id": "61bc36fc",
   "metadata": {},
   "source": [
    "Ada is slightly worse than the gradient boosting model"
   ]
  },
  {
   "cell_type": "code",
   "execution_count": 50,
   "id": "0081026e",
   "metadata": {},
   "outputs": [
    {
     "name": "stdout",
     "output_type": "stream",
     "text": [
      "The optimum max_depth:  {'max_depth': 5}\n"
     ]
    }
   ],
   "source": [
    "# Decision Tree\n",
    "tuned_parameters = [{'max_depth': [1,2,3,4,5,10,15,20,25,50,100]}]\n",
    "MSE_dt = ['mean_squared_error(y_test,y_pred4)']\n",
    "for value in MSE_dt:\n",
    "    reg_tree = GridSearchCV(DecisionTreeRegressor(), tuned_parameters, cv=4)\n",
    "    reg_tree.fit(X_train,y_train)\n",
    "    y_true, y_pred4 = y_test, reg_tree.predict(X_test)\n",
    "print('The optimum max_depth: ', reg_tree.best_params_)"
   ]
  },
  {
   "cell_type": "code",
   "execution_count": 51,
   "id": "62326a62",
   "metadata": {},
   "outputs": [
    {
     "name": "stdout",
     "output_type": "stream",
     "text": [
      "R2:  0.7099914778026442\n",
      "MAE:  0.1524645846155484\n"
     ]
    }
   ],
   "source": [
    "# Train the decision tree with max depth 5\n",
    "tree_reg = DecisionTreeRegressor(max_depth = 5)\n",
    "tree_reg.fit(X_train, y_train)\n",
    "tree_preds = tree_reg.predict(X_test)\n",
    "print('R2: ', metrics.r2_score(y_test, tree_preds))\n",
    "print('MAE: ', metrics.mean_absolute_error(y_test, tree_preds))"
   ]
  },
  {
   "cell_type": "markdown",
   "id": "2fe0442f",
   "metadata": {},
   "source": [
    "Much worse than the previous models"
   ]
  },
  {
   "cell_type": "code",
   "execution_count": 52,
   "id": "85ef80ac",
   "metadata": {},
   "outputs": [
    {
     "name": "stdout",
     "output_type": "stream",
     "text": [
      "Best Hyper-params:  {'max_depth': 15, 'n_estimators': 200}\n"
     ]
    }
   ],
   "source": [
    "# Random forest\n",
    "tuned_parameters = [{'max_depth': [5,10,15,20,50], 'n_estimators': [10,25,50,100,150,200]}]\n",
    "MSE_rf = ['mean_squared_error(y_test, y_pred5)']\n",
    "for value in MSE_rf:\n",
    "    reg_rf = GridSearchCV(RandomForestRegressor(), tuned_parameters, cv=4)\n",
    "    reg_rf.fit(X_train, y_train)\n",
    "    y_true, y_preds5 = y_test, reg_rf.predict(X_test)\n",
    "    \n",
    "print('Best Hyper-params: ', reg_rf.best_params_)"
   ]
  },
  {
   "cell_type": "code",
   "execution_count": 53,
   "id": "097528dd",
   "metadata": {},
   "outputs": [
    {
     "name": "stdout",
     "output_type": "stream",
     "text": [
      "R2:  0.8321580352109955\n",
      "MAE:  0.10734425958799132\n"
     ]
    }
   ],
   "source": [
    "rf_reg = RandomForestRegressor(max_depth = 15, n_estimators = 200)\n",
    "rf_reg.fit(X_train, y_train)\n",
    "rf_preds = rf_reg.predict(X_test)\n",
    "print('R2: ', metrics.r2_score(y_test, rf_preds))\n",
    "print('MAE: ', metrics.mean_absolute_error(y_test, rf_preds))"
   ]
  },
  {
   "cell_type": "code",
   "execution_count": 56,
   "id": "44f2a5f2",
   "metadata": {},
   "outputs": [
    {
     "name": "stdout",
     "output_type": "stream",
     "text": [
      "The best hyper parameters for gradient boosting are:  {'max_depth': 3, 'n_estimators': 500}\n"
     ]
    }
   ],
   "source": [
    "# Gradient Boost\n",
    "tuned_parameters = [{'max_depth': [3,5,10,15,20], 'n_estimators': [100,200,300,400,500]}]\n",
    "MSE_gr = ['mean_squared_error(y_test,y_pred6)']\n",
    "for value in MSE_gr:\n",
    "    grb_regr = GridSearchCV(GradientBoostingRegressor(), tuned_parameters,cv=4)\n",
    "    grb_regr.fit(X_train, y_train)\n",
    "    y_true, y_pred6 = y_test, grb_regr.predict(X_test)\n",
    "\n",
    "print('The best hyper parameters for gradient boosting are: ', grb_regr.best_params_)"
   ]
  },
  {
   "cell_type": "code",
   "execution_count": 57,
   "id": "3872bf90",
   "metadata": {},
   "outputs": [
    {
     "name": "stdout",
     "output_type": "stream",
     "text": [
      "R2:  0.8694990353697664\n",
      "MAE:  0.09504006851904843\n"
     ]
    }
   ],
   "source": [
    "revised_grb = GradientBoostingRegressor(max_depth = 3, n_estimators = 500)\n",
    "revised_grb.fit(X_train, y_train)\n",
    "rev_preds = revised_grb.predict(X_test)\n",
    "print('R2: ', metrics.r2_score(y_test, rev_preds))\n",
    "print('MAE: ', metrics.mean_absolute_error(y_test, rev_preds))"
   ]
  },
  {
   "cell_type": "markdown",
   "id": "8fd7b811",
   "metadata": {},
   "source": [
    "This is even higher than before"
   ]
  },
  {
   "cell_type": "code",
   "execution_count": 59,
   "id": "c994f15f",
   "metadata": {},
   "outputs": [],
   "source": [
    "rev_test_preds = revised_grb.predict(df_test)"
   ]
  },
  {
   "cell_type": "code",
   "execution_count": 60,
   "id": "0a613d6d",
   "metadata": {},
   "outputs": [],
   "source": [
    "rev_test_preds = np.exp(rev_test_preds)"
   ]
  },
  {
   "cell_type": "code",
   "execution_count": 61,
   "id": "658be0cc",
   "metadata": {},
   "outputs": [],
   "source": [
    "sub2 = pd.DataFrame()\n",
    "sub2['Id'] = df_test.Id"
   ]
  },
  {
   "cell_type": "code",
   "execution_count": 63,
   "id": "9a55c218",
   "metadata": {},
   "outputs": [
    {
     "data": {
      "text/html": [
       "<div>\n",
       "<style scoped>\n",
       "    .dataframe tbody tr th:only-of-type {\n",
       "        vertical-align: middle;\n",
       "    }\n",
       "\n",
       "    .dataframe tbody tr th {\n",
       "        vertical-align: top;\n",
       "    }\n",
       "\n",
       "    .dataframe thead th {\n",
       "        text-align: right;\n",
       "    }\n",
       "</style>\n",
       "<table border=\"1\" class=\"dataframe\">\n",
       "  <thead>\n",
       "    <tr style=\"text-align: right;\">\n",
       "      <th></th>\n",
       "      <th>Id</th>\n",
       "      <th>SalePrice</th>\n",
       "    </tr>\n",
       "  </thead>\n",
       "  <tbody>\n",
       "    <tr>\n",
       "      <th>0</th>\n",
       "      <td>1461</td>\n",
       "      <td>130730.259637</td>\n",
       "    </tr>\n",
       "    <tr>\n",
       "      <th>1</th>\n",
       "      <td>1462</td>\n",
       "      <td>160932.836274</td>\n",
       "    </tr>\n",
       "    <tr>\n",
       "      <th>2</th>\n",
       "      <td>1463</td>\n",
       "      <td>189992.548438</td>\n",
       "    </tr>\n",
       "    <tr>\n",
       "      <th>3</th>\n",
       "      <td>1464</td>\n",
       "      <td>184836.828041</td>\n",
       "    </tr>\n",
       "    <tr>\n",
       "      <th>4</th>\n",
       "      <td>1465</td>\n",
       "      <td>192469.867058</td>\n",
       "    </tr>\n",
       "  </tbody>\n",
       "</table>\n",
       "</div>"
      ],
      "text/plain": [
       "     Id      SalePrice\n",
       "0  1461  130730.259637\n",
       "1  1462  160932.836274\n",
       "2  1463  189992.548438\n",
       "3  1464  184836.828041\n",
       "4  1465  192469.867058"
      ]
     },
     "execution_count": 63,
     "metadata": {},
     "output_type": "execute_result"
    }
   ],
   "source": [
    "sub2['SalePrice'] = rev_test_preds\n",
    "sub2.head()"
   ]
  },
  {
   "cell_type": "code",
   "execution_count": 65,
   "id": "d0e302a0",
   "metadata": {},
   "outputs": [],
   "source": [
    "sub2.to_csv(\"C:\\\\Users\\\\boydd\\\\Downloads\\\\Housing_Submission2.csv\", index=False)"
   ]
  }
 ],
 "metadata": {
  "kernelspec": {
   "display_name": "Python 3",
   "language": "python",
   "name": "python3"
  },
  "language_info": {
   "codemirror_mode": {
    "name": "ipython",
    "version": 3
   },
   "file_extension": ".py",
   "mimetype": "text/x-python",
   "name": "python",
   "nbconvert_exporter": "python",
   "pygments_lexer": "ipython3",
   "version": "3.8.8"
  }
 },
 "nbformat": 4,
 "nbformat_minor": 5
}
